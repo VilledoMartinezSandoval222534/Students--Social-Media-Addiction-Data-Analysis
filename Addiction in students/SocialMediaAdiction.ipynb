{
  "nbformat": 4,
  "nbformat_minor": 0,
  "metadata": {
    "colab": {
      "provenance": []
    },
    "kernelspec": {
      "name": "python3",
      "display_name": "Python 3"
    },
    "language_info": {
      "name": "python"
    }
  },
  "cells": [
    {
      "cell_type": "markdown",
      "source": [
        "# Introducción\n",
        "---\n",
        "En la actualidad, las redes sociales son parte fundamental de la vida cotidiana, especialmente entre los jóvenes. Su uso ha crecido exponencialmente, y con ello surgen cuestionamientos sobre sus posibles efectos en la salud y los hábitos diarios de los usuarios, en particular los estudiantes universitarios.\n",
        "\n",
        "Este análisis tiene como objetivo explorar, la relación entre el uso de redes sociales y las horas de sueño en estudiantes de nivel **Undergraduate** (Universitarios). A través del estudio de un conjunto de datos recolectados mediante encuestas, se busca identificar patrones de uso, niveles de adicción y su posible impacto en el descanso."
      ],
      "metadata": {
        "id": "8a6UiTOE_d_T"
      }
    },
    {
      "cell_type": "code",
      "source": [
        "pip install plotly"
      ],
      "metadata": {
        "colab": {
          "base_uri": "https://localhost:8080/"
        },
        "id": "JEu8XFaDUhyx",
        "outputId": "442aa1f8-dd4a-481f-c147-e0c7c389bf3e"
      },
      "execution_count": null,
      "outputs": [
        {
          "output_type": "stream",
          "name": "stdout",
          "text": [
            "Requirement already satisfied: plotly in /usr/local/lib/python3.11/dist-packages (5.24.1)\n",
            "Requirement already satisfied: tenacity>=6.2.0 in /usr/local/lib/python3.11/dist-packages (from plotly) (9.1.2)\n",
            "Requirement already satisfied: packaging in /usr/local/lib/python3.11/dist-packages (from plotly) (24.2)\n"
          ]
        }
      ]
    },
    {
      "cell_type": "code",
      "execution_count": null,
      "metadata": {
        "colab": {
          "base_uri": "https://localhost:8080/"
        },
        "id": "mxo3RVSpPEzO",
        "outputId": "66b0628c-2cab-4e2e-e4de-a7727c41dbba"
      },
      "outputs": [
        {
          "output_type": "stream",
          "name": "stdout",
          "text": [
            "Mounted at /content/drive\n"
          ]
        }
      ],
      "source": [
        "from google.colab import drive\n",
        "drive.mount('/content/drive')"
      ]
    },
    {
      "cell_type": "code",
      "source": [
        "import pandas as pd\n",
        "import plotly.express as px\n",
        "import plotly.subplots as sp\n",
        "import plotly.graph_objects as go"
      ],
      "metadata": {
        "id": "XDu4-XdrP0Ip"
      },
      "execution_count": null,
      "outputs": []
    },
    {
      "cell_type": "code",
      "source": [
        "df_general = pd.read_csv('/content/drive/MyDrive/Addiction in students/Students Social Media Addiction.csv')\n",
        "df_general.head()"
      ],
      "metadata": {
        "colab": {
          "base_uri": "https://localhost:8080/",
          "height": 226
        },
        "id": "U0J4553PQhNh",
        "outputId": "680e0440-3a4a-4088-8f98-fbde8c85d85a"
      },
      "execution_count": null,
      "outputs": [
        {
          "output_type": "execute_result",
          "data": {
            "text/plain": [
              "   Student_ID  Age  Gender Academic_Level     Country  Avg_Daily_Usage_Hours  \\\n",
              "0           1   19  Female  Undergraduate  Bangladesh                    5.2   \n",
              "1           2   22    Male       Graduate       India                    2.1   \n",
              "2           3   20  Female  Undergraduate         USA                    6.0   \n",
              "3           4   18    Male    High School          UK                    3.0   \n",
              "4           5   21    Male       Graduate      Canada                    4.5   \n",
              "\n",
              "  Most_Used_Platform Affects_Academic_Performance  Sleep_Hours_Per_Night  \\\n",
              "0          Instagram                          Yes                    6.5   \n",
              "1            Twitter                           No                    7.5   \n",
              "2             TikTok                          Yes                    5.0   \n",
              "3            YouTube                           No                    7.0   \n",
              "4           Facebook                          Yes                    6.0   \n",
              "\n",
              "   Mental_Health_Score Relationship_Status  Conflicts_Over_Social_Media  \\\n",
              "0                    6     In Relationship                            3   \n",
              "1                    8              Single                            0   \n",
              "2                    5         Complicated                            4   \n",
              "3                    7              Single                            1   \n",
              "4                    6     In Relationship                            2   \n",
              "\n",
              "   Addicted_Score  \n",
              "0               8  \n",
              "1               3  \n",
              "2               9  \n",
              "3               4  \n",
              "4               7  "
            ],
            "text/html": [
              "\n",
              "  <div id=\"df-84100b08-8722-48dd-972a-57afc2817875\" class=\"colab-df-container\">\n",
              "    <div>\n",
              "<style scoped>\n",
              "    .dataframe tbody tr th:only-of-type {\n",
              "        vertical-align: middle;\n",
              "    }\n",
              "\n",
              "    .dataframe tbody tr th {\n",
              "        vertical-align: top;\n",
              "    }\n",
              "\n",
              "    .dataframe thead th {\n",
              "        text-align: right;\n",
              "    }\n",
              "</style>\n",
              "<table border=\"1\" class=\"dataframe\">\n",
              "  <thead>\n",
              "    <tr style=\"text-align: right;\">\n",
              "      <th></th>\n",
              "      <th>Student_ID</th>\n",
              "      <th>Age</th>\n",
              "      <th>Gender</th>\n",
              "      <th>Academic_Level</th>\n",
              "      <th>Country</th>\n",
              "      <th>Avg_Daily_Usage_Hours</th>\n",
              "      <th>Most_Used_Platform</th>\n",
              "      <th>Affects_Academic_Performance</th>\n",
              "      <th>Sleep_Hours_Per_Night</th>\n",
              "      <th>Mental_Health_Score</th>\n",
              "      <th>Relationship_Status</th>\n",
              "      <th>Conflicts_Over_Social_Media</th>\n",
              "      <th>Addicted_Score</th>\n",
              "    </tr>\n",
              "  </thead>\n",
              "  <tbody>\n",
              "    <tr>\n",
              "      <th>0</th>\n",
              "      <td>1</td>\n",
              "      <td>19</td>\n",
              "      <td>Female</td>\n",
              "      <td>Undergraduate</td>\n",
              "      <td>Bangladesh</td>\n",
              "      <td>5.2</td>\n",
              "      <td>Instagram</td>\n",
              "      <td>Yes</td>\n",
              "      <td>6.5</td>\n",
              "      <td>6</td>\n",
              "      <td>In Relationship</td>\n",
              "      <td>3</td>\n",
              "      <td>8</td>\n",
              "    </tr>\n",
              "    <tr>\n",
              "      <th>1</th>\n",
              "      <td>2</td>\n",
              "      <td>22</td>\n",
              "      <td>Male</td>\n",
              "      <td>Graduate</td>\n",
              "      <td>India</td>\n",
              "      <td>2.1</td>\n",
              "      <td>Twitter</td>\n",
              "      <td>No</td>\n",
              "      <td>7.5</td>\n",
              "      <td>8</td>\n",
              "      <td>Single</td>\n",
              "      <td>0</td>\n",
              "      <td>3</td>\n",
              "    </tr>\n",
              "    <tr>\n",
              "      <th>2</th>\n",
              "      <td>3</td>\n",
              "      <td>20</td>\n",
              "      <td>Female</td>\n",
              "      <td>Undergraduate</td>\n",
              "      <td>USA</td>\n",
              "      <td>6.0</td>\n",
              "      <td>TikTok</td>\n",
              "      <td>Yes</td>\n",
              "      <td>5.0</td>\n",
              "      <td>5</td>\n",
              "      <td>Complicated</td>\n",
              "      <td>4</td>\n",
              "      <td>9</td>\n",
              "    </tr>\n",
              "    <tr>\n",
              "      <th>3</th>\n",
              "      <td>4</td>\n",
              "      <td>18</td>\n",
              "      <td>Male</td>\n",
              "      <td>High School</td>\n",
              "      <td>UK</td>\n",
              "      <td>3.0</td>\n",
              "      <td>YouTube</td>\n",
              "      <td>No</td>\n",
              "      <td>7.0</td>\n",
              "      <td>7</td>\n",
              "      <td>Single</td>\n",
              "      <td>1</td>\n",
              "      <td>4</td>\n",
              "    </tr>\n",
              "    <tr>\n",
              "      <th>4</th>\n",
              "      <td>5</td>\n",
              "      <td>21</td>\n",
              "      <td>Male</td>\n",
              "      <td>Graduate</td>\n",
              "      <td>Canada</td>\n",
              "      <td>4.5</td>\n",
              "      <td>Facebook</td>\n",
              "      <td>Yes</td>\n",
              "      <td>6.0</td>\n",
              "      <td>6</td>\n",
              "      <td>In Relationship</td>\n",
              "      <td>2</td>\n",
              "      <td>7</td>\n",
              "    </tr>\n",
              "  </tbody>\n",
              "</table>\n",
              "</div>\n",
              "    <div class=\"colab-df-buttons\">\n",
              "\n",
              "  <div class=\"colab-df-container\">\n",
              "    <button class=\"colab-df-convert\" onclick=\"convertToInteractive('df-84100b08-8722-48dd-972a-57afc2817875')\"\n",
              "            title=\"Convert this dataframe to an interactive table.\"\n",
              "            style=\"display:none;\">\n",
              "\n",
              "  <svg xmlns=\"http://www.w3.org/2000/svg\" height=\"24px\" viewBox=\"0 -960 960 960\">\n",
              "    <path d=\"M120-120v-720h720v720H120Zm60-500h600v-160H180v160Zm220 220h160v-160H400v160Zm0 220h160v-160H400v160ZM180-400h160v-160H180v160Zm440 0h160v-160H620v160ZM180-180h160v-160H180v160Zm440 0h160v-160H620v160Z\"/>\n",
              "  </svg>\n",
              "    </button>\n",
              "\n",
              "  <style>\n",
              "    .colab-df-container {\n",
              "      display:flex;\n",
              "      gap: 12px;\n",
              "    }\n",
              "\n",
              "    .colab-df-convert {\n",
              "      background-color: #E8F0FE;\n",
              "      border: none;\n",
              "      border-radius: 50%;\n",
              "      cursor: pointer;\n",
              "      display: none;\n",
              "      fill: #1967D2;\n",
              "      height: 32px;\n",
              "      padding: 0 0 0 0;\n",
              "      width: 32px;\n",
              "    }\n",
              "\n",
              "    .colab-df-convert:hover {\n",
              "      background-color: #E2EBFA;\n",
              "      box-shadow: 0px 1px 2px rgba(60, 64, 67, 0.3), 0px 1px 3px 1px rgba(60, 64, 67, 0.15);\n",
              "      fill: #174EA6;\n",
              "    }\n",
              "\n",
              "    .colab-df-buttons div {\n",
              "      margin-bottom: 4px;\n",
              "    }\n",
              "\n",
              "    [theme=dark] .colab-df-convert {\n",
              "      background-color: #3B4455;\n",
              "      fill: #D2E3FC;\n",
              "    }\n",
              "\n",
              "    [theme=dark] .colab-df-convert:hover {\n",
              "      background-color: #434B5C;\n",
              "      box-shadow: 0px 1px 3px 1px rgba(0, 0, 0, 0.15);\n",
              "      filter: drop-shadow(0px 1px 2px rgba(0, 0, 0, 0.3));\n",
              "      fill: #FFFFFF;\n",
              "    }\n",
              "  </style>\n",
              "\n",
              "    <script>\n",
              "      const buttonEl =\n",
              "        document.querySelector('#df-84100b08-8722-48dd-972a-57afc2817875 button.colab-df-convert');\n",
              "      buttonEl.style.display =\n",
              "        google.colab.kernel.accessAllowed ? 'block' : 'none';\n",
              "\n",
              "      async function convertToInteractive(key) {\n",
              "        const element = document.querySelector('#df-84100b08-8722-48dd-972a-57afc2817875');\n",
              "        const dataTable =\n",
              "          await google.colab.kernel.invokeFunction('convertToInteractive',\n",
              "                                                    [key], {});\n",
              "        if (!dataTable) return;\n",
              "\n",
              "        const docLinkHtml = 'Like what you see? Visit the ' +\n",
              "          '<a target=\"_blank\" href=https://colab.research.google.com/notebooks/data_table.ipynb>data table notebook</a>'\n",
              "          + ' to learn more about interactive tables.';\n",
              "        element.innerHTML = '';\n",
              "        dataTable['output_type'] = 'display_data';\n",
              "        await google.colab.output.renderOutput(dataTable, element);\n",
              "        const docLink = document.createElement('div');\n",
              "        docLink.innerHTML = docLinkHtml;\n",
              "        element.appendChild(docLink);\n",
              "      }\n",
              "    </script>\n",
              "  </div>\n",
              "\n",
              "\n",
              "    <div id=\"df-82e6a496-64a9-4956-875c-ff8ccf5a6de9\">\n",
              "      <button class=\"colab-df-quickchart\" onclick=\"quickchart('df-82e6a496-64a9-4956-875c-ff8ccf5a6de9')\"\n",
              "                title=\"Suggest charts\"\n",
              "                style=\"display:none;\">\n",
              "\n",
              "<svg xmlns=\"http://www.w3.org/2000/svg\" height=\"24px\"viewBox=\"0 0 24 24\"\n",
              "     width=\"24px\">\n",
              "    <g>\n",
              "        <path d=\"M19 3H5c-1.1 0-2 .9-2 2v14c0 1.1.9 2 2 2h14c1.1 0 2-.9 2-2V5c0-1.1-.9-2-2-2zM9 17H7v-7h2v7zm4 0h-2V7h2v10zm4 0h-2v-4h2v4z\"/>\n",
              "    </g>\n",
              "</svg>\n",
              "      </button>\n",
              "\n",
              "<style>\n",
              "  .colab-df-quickchart {\n",
              "      --bg-color: #E8F0FE;\n",
              "      --fill-color: #1967D2;\n",
              "      --hover-bg-color: #E2EBFA;\n",
              "      --hover-fill-color: #174EA6;\n",
              "      --disabled-fill-color: #AAA;\n",
              "      --disabled-bg-color: #DDD;\n",
              "  }\n",
              "\n",
              "  [theme=dark] .colab-df-quickchart {\n",
              "      --bg-color: #3B4455;\n",
              "      --fill-color: #D2E3FC;\n",
              "      --hover-bg-color: #434B5C;\n",
              "      --hover-fill-color: #FFFFFF;\n",
              "      --disabled-bg-color: #3B4455;\n",
              "      --disabled-fill-color: #666;\n",
              "  }\n",
              "\n",
              "  .colab-df-quickchart {\n",
              "    background-color: var(--bg-color);\n",
              "    border: none;\n",
              "    border-radius: 50%;\n",
              "    cursor: pointer;\n",
              "    display: none;\n",
              "    fill: var(--fill-color);\n",
              "    height: 32px;\n",
              "    padding: 0;\n",
              "    width: 32px;\n",
              "  }\n",
              "\n",
              "  .colab-df-quickchart:hover {\n",
              "    background-color: var(--hover-bg-color);\n",
              "    box-shadow: 0 1px 2px rgba(60, 64, 67, 0.3), 0 1px 3px 1px rgba(60, 64, 67, 0.15);\n",
              "    fill: var(--button-hover-fill-color);\n",
              "  }\n",
              "\n",
              "  .colab-df-quickchart-complete:disabled,\n",
              "  .colab-df-quickchart-complete:disabled:hover {\n",
              "    background-color: var(--disabled-bg-color);\n",
              "    fill: var(--disabled-fill-color);\n",
              "    box-shadow: none;\n",
              "  }\n",
              "\n",
              "  .colab-df-spinner {\n",
              "    border: 2px solid var(--fill-color);\n",
              "    border-color: transparent;\n",
              "    border-bottom-color: var(--fill-color);\n",
              "    animation:\n",
              "      spin 1s steps(1) infinite;\n",
              "  }\n",
              "\n",
              "  @keyframes spin {\n",
              "    0% {\n",
              "      border-color: transparent;\n",
              "      border-bottom-color: var(--fill-color);\n",
              "      border-left-color: var(--fill-color);\n",
              "    }\n",
              "    20% {\n",
              "      border-color: transparent;\n",
              "      border-left-color: var(--fill-color);\n",
              "      border-top-color: var(--fill-color);\n",
              "    }\n",
              "    30% {\n",
              "      border-color: transparent;\n",
              "      border-left-color: var(--fill-color);\n",
              "      border-top-color: var(--fill-color);\n",
              "      border-right-color: var(--fill-color);\n",
              "    }\n",
              "    40% {\n",
              "      border-color: transparent;\n",
              "      border-right-color: var(--fill-color);\n",
              "      border-top-color: var(--fill-color);\n",
              "    }\n",
              "    60% {\n",
              "      border-color: transparent;\n",
              "      border-right-color: var(--fill-color);\n",
              "    }\n",
              "    80% {\n",
              "      border-color: transparent;\n",
              "      border-right-color: var(--fill-color);\n",
              "      border-bottom-color: var(--fill-color);\n",
              "    }\n",
              "    90% {\n",
              "      border-color: transparent;\n",
              "      border-bottom-color: var(--fill-color);\n",
              "    }\n",
              "  }\n",
              "</style>\n",
              "\n",
              "      <script>\n",
              "        async function quickchart(key) {\n",
              "          const quickchartButtonEl =\n",
              "            document.querySelector('#' + key + ' button');\n",
              "          quickchartButtonEl.disabled = true;  // To prevent multiple clicks.\n",
              "          quickchartButtonEl.classList.add('colab-df-spinner');\n",
              "          try {\n",
              "            const charts = await google.colab.kernel.invokeFunction(\n",
              "                'suggestCharts', [key], {});\n",
              "          } catch (error) {\n",
              "            console.error('Error during call to suggestCharts:', error);\n",
              "          }\n",
              "          quickchartButtonEl.classList.remove('colab-df-spinner');\n",
              "          quickchartButtonEl.classList.add('colab-df-quickchart-complete');\n",
              "        }\n",
              "        (() => {\n",
              "          let quickchartButtonEl =\n",
              "            document.querySelector('#df-82e6a496-64a9-4956-875c-ff8ccf5a6de9 button');\n",
              "          quickchartButtonEl.style.display =\n",
              "            google.colab.kernel.accessAllowed ? 'block' : 'none';\n",
              "        })();\n",
              "      </script>\n",
              "    </div>\n",
              "\n",
              "    </div>\n",
              "  </div>\n"
            ],
            "application/vnd.google.colaboratory.intrinsic+json": {
              "type": "dataframe",
              "variable_name": "df_general",
              "summary": "{\n  \"name\": \"df_general\",\n  \"rows\": 705,\n  \"fields\": [\n    {\n      \"column\": \"Student_ID\",\n      \"properties\": {\n        \"dtype\": \"number\",\n        \"std\": 203,\n        \"min\": 1,\n        \"max\": 705,\n        \"num_unique_values\": 705,\n        \"samples\": [\n          479,\n          82,\n          78\n        ],\n        \"semantic_type\": \"\",\n        \"description\": \"\"\n      }\n    },\n    {\n      \"column\": \"Age\",\n      \"properties\": {\n        \"dtype\": \"number\",\n        \"std\": 1,\n        \"min\": 18,\n        \"max\": 24,\n        \"num_unique_values\": 7,\n        \"samples\": [\n          19,\n          22,\n          23\n        ],\n        \"semantic_type\": \"\",\n        \"description\": \"\"\n      }\n    },\n    {\n      \"column\": \"Gender\",\n      \"properties\": {\n        \"dtype\": \"category\",\n        \"num_unique_values\": 2,\n        \"samples\": [\n          \"Male\",\n          \"Female\"\n        ],\n        \"semantic_type\": \"\",\n        \"description\": \"\"\n      }\n    },\n    {\n      \"column\": \"Academic_Level\",\n      \"properties\": {\n        \"dtype\": \"category\",\n        \"num_unique_values\": 3,\n        \"samples\": [\n          \"Undergraduate\",\n          \"Graduate\"\n        ],\n        \"semantic_type\": \"\",\n        \"description\": \"\"\n      }\n    },\n    {\n      \"column\": \"Country\",\n      \"properties\": {\n        \"dtype\": \"category\",\n        \"num_unique_values\": 110,\n        \"samples\": [\n          \"Tajikistan\",\n          \"France\"\n        ],\n        \"semantic_type\": \"\",\n        \"description\": \"\"\n      }\n    },\n    {\n      \"column\": \"Avg_Daily_Usage_Hours\",\n      \"properties\": {\n        \"dtype\": \"number\",\n        \"std\": 1.2573945210731428,\n        \"min\": 1.5,\n        \"max\": 8.5,\n        \"num_unique_values\": 67,\n        \"samples\": [\n          3.9,\n          2.0\n        ],\n        \"semantic_type\": \"\",\n        \"description\": \"\"\n      }\n    },\n    {\n      \"column\": \"Most_Used_Platform\",\n      \"properties\": {\n        \"dtype\": \"category\",\n        \"num_unique_values\": 12,\n        \"samples\": [\n          \"WhatsApp\",\n          \"VKontakte\"\n        ],\n        \"semantic_type\": \"\",\n        \"description\": \"\"\n      }\n    },\n    {\n      \"column\": \"Affects_Academic_Performance\",\n      \"properties\": {\n        \"dtype\": \"category\",\n        \"num_unique_values\": 2,\n        \"samples\": [\n          \"No\",\n          \"Yes\"\n        ],\n        \"semantic_type\": \"\",\n        \"description\": \"\"\n      }\n    },\n    {\n      \"column\": \"Sleep_Hours_Per_Night\",\n      \"properties\": {\n        \"dtype\": \"number\",\n        \"std\": 1.126848041531804,\n        \"min\": 3.8,\n        \"max\": 9.6,\n        \"num_unique_values\": 59,\n        \"samples\": [\n          6.5,\n          4.5\n        ],\n        \"semantic_type\": \"\",\n        \"description\": \"\"\n      }\n    },\n    {\n      \"column\": \"Mental_Health_Score\",\n      \"properties\": {\n        \"dtype\": \"number\",\n        \"std\": 1,\n        \"min\": 4,\n        \"max\": 9,\n        \"num_unique_values\": 6,\n        \"samples\": [\n          6,\n          8\n        ],\n        \"semantic_type\": \"\",\n        \"description\": \"\"\n      }\n    },\n    {\n      \"column\": \"Relationship_Status\",\n      \"properties\": {\n        \"dtype\": \"category\",\n        \"num_unique_values\": 3,\n        \"samples\": [\n          \"In Relationship\",\n          \"Single\"\n        ],\n        \"semantic_type\": \"\",\n        \"description\": \"\"\n      }\n    },\n    {\n      \"column\": \"Conflicts_Over_Social_Media\",\n      \"properties\": {\n        \"dtype\": \"number\",\n        \"std\": 0,\n        \"min\": 0,\n        \"max\": 5,\n        \"num_unique_values\": 6,\n        \"samples\": [\n          3,\n          0\n        ],\n        \"semantic_type\": \"\",\n        \"description\": \"\"\n      }\n    },\n    {\n      \"column\": \"Addicted_Score\",\n      \"properties\": {\n        \"dtype\": \"number\",\n        \"std\": 1,\n        \"min\": 2,\n        \"max\": 9,\n        \"num_unique_values\": 8,\n        \"samples\": [\n          3,\n          2\n        ],\n        \"semantic_type\": \"\",\n        \"description\": \"\"\n      }\n    }\n  ]\n}"
            }
          },
          "metadata": {},
          "execution_count": 10
        }
      ]
    },
    {
      "cell_type": "markdown",
      "source": [
        "##Variables clave del análisis\n",
        "\n",
        "|Columna|Descripción|\n",
        "|------------------------|------------------------------------------------------------------------------|\n",
        "| **Most_Used_Platform** | Plataforma de redes sociales más utilizada por el estudiante|\n",
        "| **Avg_Daily_Usage_Hours** | Promedio de horas diarias dedicadas a redes sociales|\n",
        "| **Sleep_Hours** | Promedio de horas de sueño por díad|\n",
        "| **Addiction_Level** | Nivel de adicción a redes sociales (escala de 1 a 10)|\n",
        "| **Affects_Academic_Performance** | Indica si el uso de redes sociales afecta el rendimiento académico (Sí/No) |\n"
      ],
      "metadata": {
        "id": "M1oBr6FpEDFa"
      }
    },
    {
      "cell_type": "code",
      "source": [
        "df_general.info()"
      ],
      "metadata": {
        "colab": {
          "base_uri": "https://localhost:8080/"
        },
        "id": "q7DZ8ILMR2If",
        "outputId": "9bdb0e3a-fe30-4768-daa8-e995f17460ae"
      },
      "execution_count": null,
      "outputs": [
        {
          "output_type": "stream",
          "name": "stdout",
          "text": [
            "<class 'pandas.core.frame.DataFrame'>\n",
            "RangeIndex: 705 entries, 0 to 704\n",
            "Data columns (total 13 columns):\n",
            " #   Column                        Non-Null Count  Dtype  \n",
            "---  ------                        --------------  -----  \n",
            " 0   Student_ID                    705 non-null    int64  \n",
            " 1   Age                           705 non-null    int64  \n",
            " 2   Gender                        705 non-null    object \n",
            " 3   Academic_Level                705 non-null    object \n",
            " 4   Country                       705 non-null    object \n",
            " 5   Avg_Daily_Usage_Hours         705 non-null    float64\n",
            " 6   Most_Used_Platform            705 non-null    object \n",
            " 7   Affects_Academic_Performance  705 non-null    object \n",
            " 8   Sleep_Hours_Per_Night         705 non-null    float64\n",
            " 9   Mental_Health_Score           705 non-null    int64  \n",
            " 10  Relationship_Status           705 non-null    object \n",
            " 11  Conflicts_Over_Social_Media   705 non-null    int64  \n",
            " 12  Addicted_Score                705 non-null    int64  \n",
            "dtypes: float64(2), int64(5), object(6)\n",
            "memory usage: 71.7+ KB\n"
          ]
        }
      ]
    },
    {
      "cell_type": "markdown",
      "source": [
        "---\n",
        "# Visualización y análisis de datos\n"
      ],
      "metadata": {
        "id": "XBNY7bbHIdeg"
      }
    },
    {
      "cell_type": "code",
      "source": [
        "df_undergraduate = df_general[df_general['Academic_Level'] == 'Undergraduate']"
      ],
      "metadata": {
        "id": "geevaN92vGSi"
      },
      "execution_count": null,
      "outputs": []
    },
    {
      "cell_type": "markdown",
      "source": [
        "Se filtraron los datos para quedarse **solo** con los estudiantes de nivel **undergraduate**"
      ],
      "metadata": {
        "id": "7MqdtfVpZKYR"
      }
    },
    {
      "cell_type": "code",
      "source": [
        "conteo_genero = df_undergraduate['Gender'].value_counts()\n",
        "\n",
        "fig = px.pie(conteo_genero,\n",
        "             names=conteo_genero.index,\n",
        "             values=conteo_genero.values,\n",
        "             hole=.3,\n",
        "             title='Distribución de Hombres y Mujeres en la encuesta',\n",
        "             color_discrete_sequence=px.colors.qualitative.Dark2)\n",
        "fig.show()"
      ],
      "metadata": {
        "colab": {
          "base_uri": "https://localhost:8080/",
          "height": 542
        },
        "id": "gAQoEVJFUBkJ",
        "outputId": "846b258a-4026-48ff-8d17-7b8108e83cd7"
      },
      "execution_count": null,
      "outputs": [
        {
          "output_type": "display_data",
          "data": {
            "text/html": [
              "<html>\n",
              "<head><meta charset=\"utf-8\" /></head>\n",
              "<body>\n",
              "    <div>            <script src=\"https://cdnjs.cloudflare.com/ajax/libs/mathjax/2.7.5/MathJax.js?config=TeX-AMS-MML_SVG\"></script><script type=\"text/javascript\">if (window.MathJax && window.MathJax.Hub && window.MathJax.Hub.Config) {window.MathJax.Hub.Config({SVG: {font: \"STIX-Web\"}});}</script>                <script type=\"text/javascript\">window.PlotlyConfig = {MathJaxConfig: 'local'};</script>\n",
              "        <script charset=\"utf-8\" src=\"https://cdn.plot.ly/plotly-2.35.2.min.js\"></script>                <div id=\"94855148-d64d-4b65-91f7-382b768d8623\" class=\"plotly-graph-div\" style=\"height:525px; width:100%;\"></div>            <script type=\"text/javascript\">                                    window.PLOTLYENV=window.PLOTLYENV || {};                                    if (document.getElementById(\"94855148-d64d-4b65-91f7-382b768d8623\")) {                    Plotly.newPlot(                        \"94855148-d64d-4b65-91f7-382b768d8623\",                        [{\"domain\":{\"x\":[0.0,1.0],\"y\":[0.0,1.0]},\"hole\":0.3,\"hovertemplate\":\"Gender=%{label}\\u003cbr\\u003evalue=%{value}\\u003cextra\\u003e\\u003c\\u002fextra\\u003e\",\"labels\":[\"Female\",\"Male\"],\"legendgroup\":\"\",\"name\":\"\",\"showlegend\":true,\"values\":[290,63],\"type\":\"pie\"}],                        {\"template\":{\"data\":{\"histogram2dcontour\":[{\"type\":\"histogram2dcontour\",\"colorbar\":{\"outlinewidth\":0,\"ticks\":\"\"},\"colorscale\":[[0.0,\"#0d0887\"],[0.1111111111111111,\"#46039f\"],[0.2222222222222222,\"#7201a8\"],[0.3333333333333333,\"#9c179e\"],[0.4444444444444444,\"#bd3786\"],[0.5555555555555556,\"#d8576b\"],[0.6666666666666666,\"#ed7953\"],[0.7777777777777778,\"#fb9f3a\"],[0.8888888888888888,\"#fdca26\"],[1.0,\"#f0f921\"]]}],\"choropleth\":[{\"type\":\"choropleth\",\"colorbar\":{\"outlinewidth\":0,\"ticks\":\"\"}}],\"histogram2d\":[{\"type\":\"histogram2d\",\"colorbar\":{\"outlinewidth\":0,\"ticks\":\"\"},\"colorscale\":[[0.0,\"#0d0887\"],[0.1111111111111111,\"#46039f\"],[0.2222222222222222,\"#7201a8\"],[0.3333333333333333,\"#9c179e\"],[0.4444444444444444,\"#bd3786\"],[0.5555555555555556,\"#d8576b\"],[0.6666666666666666,\"#ed7953\"],[0.7777777777777778,\"#fb9f3a\"],[0.8888888888888888,\"#fdca26\"],[1.0,\"#f0f921\"]]}],\"heatmap\":[{\"type\":\"heatmap\",\"colorbar\":{\"outlinewidth\":0,\"ticks\":\"\"},\"colorscale\":[[0.0,\"#0d0887\"],[0.1111111111111111,\"#46039f\"],[0.2222222222222222,\"#7201a8\"],[0.3333333333333333,\"#9c179e\"],[0.4444444444444444,\"#bd3786\"],[0.5555555555555556,\"#d8576b\"],[0.6666666666666666,\"#ed7953\"],[0.7777777777777778,\"#fb9f3a\"],[0.8888888888888888,\"#fdca26\"],[1.0,\"#f0f921\"]]}],\"heatmapgl\":[{\"type\":\"heatmapgl\",\"colorbar\":{\"outlinewidth\":0,\"ticks\":\"\"},\"colorscale\":[[0.0,\"#0d0887\"],[0.1111111111111111,\"#46039f\"],[0.2222222222222222,\"#7201a8\"],[0.3333333333333333,\"#9c179e\"],[0.4444444444444444,\"#bd3786\"],[0.5555555555555556,\"#d8576b\"],[0.6666666666666666,\"#ed7953\"],[0.7777777777777778,\"#fb9f3a\"],[0.8888888888888888,\"#fdca26\"],[1.0,\"#f0f921\"]]}],\"contourcarpet\":[{\"type\":\"contourcarpet\",\"colorbar\":{\"outlinewidth\":0,\"ticks\":\"\"}}],\"contour\":[{\"type\":\"contour\",\"colorbar\":{\"outlinewidth\":0,\"ticks\":\"\"},\"colorscale\":[[0.0,\"#0d0887\"],[0.1111111111111111,\"#46039f\"],[0.2222222222222222,\"#7201a8\"],[0.3333333333333333,\"#9c179e\"],[0.4444444444444444,\"#bd3786\"],[0.5555555555555556,\"#d8576b\"],[0.6666666666666666,\"#ed7953\"],[0.7777777777777778,\"#fb9f3a\"],[0.8888888888888888,\"#fdca26\"],[1.0,\"#f0f921\"]]}],\"surface\":[{\"type\":\"surface\",\"colorbar\":{\"outlinewidth\":0,\"ticks\":\"\"},\"colorscale\":[[0.0,\"#0d0887\"],[0.1111111111111111,\"#46039f\"],[0.2222222222222222,\"#7201a8\"],[0.3333333333333333,\"#9c179e\"],[0.4444444444444444,\"#bd3786\"],[0.5555555555555556,\"#d8576b\"],[0.6666666666666666,\"#ed7953\"],[0.7777777777777778,\"#fb9f3a\"],[0.8888888888888888,\"#fdca26\"],[1.0,\"#f0f921\"]]}],\"mesh3d\":[{\"type\":\"mesh3d\",\"colorbar\":{\"outlinewidth\":0,\"ticks\":\"\"}}],\"scatter\":[{\"fillpattern\":{\"fillmode\":\"overlay\",\"size\":10,\"solidity\":0.2},\"type\":\"scatter\"}],\"parcoords\":[{\"type\":\"parcoords\",\"line\":{\"colorbar\":{\"outlinewidth\":0,\"ticks\":\"\"}}}],\"scatterpolargl\":[{\"type\":\"scatterpolargl\",\"marker\":{\"colorbar\":{\"outlinewidth\":0,\"ticks\":\"\"}}}],\"bar\":[{\"error_x\":{\"color\":\"#2a3f5f\"},\"error_y\":{\"color\":\"#2a3f5f\"},\"marker\":{\"line\":{\"color\":\"#E5ECF6\",\"width\":0.5},\"pattern\":{\"fillmode\":\"overlay\",\"size\":10,\"solidity\":0.2}},\"type\":\"bar\"}],\"scattergeo\":[{\"type\":\"scattergeo\",\"marker\":{\"colorbar\":{\"outlinewidth\":0,\"ticks\":\"\"}}}],\"scatterpolar\":[{\"type\":\"scatterpolar\",\"marker\":{\"colorbar\":{\"outlinewidth\":0,\"ticks\":\"\"}}}],\"histogram\":[{\"marker\":{\"pattern\":{\"fillmode\":\"overlay\",\"size\":10,\"solidity\":0.2}},\"type\":\"histogram\"}],\"scattergl\":[{\"type\":\"scattergl\",\"marker\":{\"colorbar\":{\"outlinewidth\":0,\"ticks\":\"\"}}}],\"scatter3d\":[{\"type\":\"scatter3d\",\"line\":{\"colorbar\":{\"outlinewidth\":0,\"ticks\":\"\"}},\"marker\":{\"colorbar\":{\"outlinewidth\":0,\"ticks\":\"\"}}}],\"scattermapbox\":[{\"type\":\"scattermapbox\",\"marker\":{\"colorbar\":{\"outlinewidth\":0,\"ticks\":\"\"}}}],\"scatterternary\":[{\"type\":\"scatterternary\",\"marker\":{\"colorbar\":{\"outlinewidth\":0,\"ticks\":\"\"}}}],\"scattercarpet\":[{\"type\":\"scattercarpet\",\"marker\":{\"colorbar\":{\"outlinewidth\":0,\"ticks\":\"\"}}}],\"carpet\":[{\"aaxis\":{\"endlinecolor\":\"#2a3f5f\",\"gridcolor\":\"white\",\"linecolor\":\"white\",\"minorgridcolor\":\"white\",\"startlinecolor\":\"#2a3f5f\"},\"baxis\":{\"endlinecolor\":\"#2a3f5f\",\"gridcolor\":\"white\",\"linecolor\":\"white\",\"minorgridcolor\":\"white\",\"startlinecolor\":\"#2a3f5f\"},\"type\":\"carpet\"}],\"table\":[{\"cells\":{\"fill\":{\"color\":\"#EBF0F8\"},\"line\":{\"color\":\"white\"}},\"header\":{\"fill\":{\"color\":\"#C8D4E3\"},\"line\":{\"color\":\"white\"}},\"type\":\"table\"}],\"barpolar\":[{\"marker\":{\"line\":{\"color\":\"#E5ECF6\",\"width\":0.5},\"pattern\":{\"fillmode\":\"overlay\",\"size\":10,\"solidity\":0.2}},\"type\":\"barpolar\"}],\"pie\":[{\"automargin\":true,\"type\":\"pie\"}]},\"layout\":{\"autotypenumbers\":\"strict\",\"colorway\":[\"#636efa\",\"#EF553B\",\"#00cc96\",\"#ab63fa\",\"#FFA15A\",\"#19d3f3\",\"#FF6692\",\"#B6E880\",\"#FF97FF\",\"#FECB52\"],\"font\":{\"color\":\"#2a3f5f\"},\"hovermode\":\"closest\",\"hoverlabel\":{\"align\":\"left\"},\"paper_bgcolor\":\"white\",\"plot_bgcolor\":\"#E5ECF6\",\"polar\":{\"bgcolor\":\"#E5ECF6\",\"angularaxis\":{\"gridcolor\":\"white\",\"linecolor\":\"white\",\"ticks\":\"\"},\"radialaxis\":{\"gridcolor\":\"white\",\"linecolor\":\"white\",\"ticks\":\"\"}},\"ternary\":{\"bgcolor\":\"#E5ECF6\",\"aaxis\":{\"gridcolor\":\"white\",\"linecolor\":\"white\",\"ticks\":\"\"},\"baxis\":{\"gridcolor\":\"white\",\"linecolor\":\"white\",\"ticks\":\"\"},\"caxis\":{\"gridcolor\":\"white\",\"linecolor\":\"white\",\"ticks\":\"\"}},\"coloraxis\":{\"colorbar\":{\"outlinewidth\":0,\"ticks\":\"\"}},\"colorscale\":{\"sequential\":[[0.0,\"#0d0887\"],[0.1111111111111111,\"#46039f\"],[0.2222222222222222,\"#7201a8\"],[0.3333333333333333,\"#9c179e\"],[0.4444444444444444,\"#bd3786\"],[0.5555555555555556,\"#d8576b\"],[0.6666666666666666,\"#ed7953\"],[0.7777777777777778,\"#fb9f3a\"],[0.8888888888888888,\"#fdca26\"],[1.0,\"#f0f921\"]],\"sequentialminus\":[[0.0,\"#0d0887\"],[0.1111111111111111,\"#46039f\"],[0.2222222222222222,\"#7201a8\"],[0.3333333333333333,\"#9c179e\"],[0.4444444444444444,\"#bd3786\"],[0.5555555555555556,\"#d8576b\"],[0.6666666666666666,\"#ed7953\"],[0.7777777777777778,\"#fb9f3a\"],[0.8888888888888888,\"#fdca26\"],[1.0,\"#f0f921\"]],\"diverging\":[[0,\"#8e0152\"],[0.1,\"#c51b7d\"],[0.2,\"#de77ae\"],[0.3,\"#f1b6da\"],[0.4,\"#fde0ef\"],[0.5,\"#f7f7f7\"],[0.6,\"#e6f5d0\"],[0.7,\"#b8e186\"],[0.8,\"#7fbc41\"],[0.9,\"#4d9221\"],[1,\"#276419\"]]},\"xaxis\":{\"gridcolor\":\"white\",\"linecolor\":\"white\",\"ticks\":\"\",\"title\":{\"standoff\":15},\"zerolinecolor\":\"white\",\"automargin\":true,\"zerolinewidth\":2},\"yaxis\":{\"gridcolor\":\"white\",\"linecolor\":\"white\",\"ticks\":\"\",\"title\":{\"standoff\":15},\"zerolinecolor\":\"white\",\"automargin\":true,\"zerolinewidth\":2},\"scene\":{\"xaxis\":{\"backgroundcolor\":\"#E5ECF6\",\"gridcolor\":\"white\",\"linecolor\":\"white\",\"showbackground\":true,\"ticks\":\"\",\"zerolinecolor\":\"white\",\"gridwidth\":2},\"yaxis\":{\"backgroundcolor\":\"#E5ECF6\",\"gridcolor\":\"white\",\"linecolor\":\"white\",\"showbackground\":true,\"ticks\":\"\",\"zerolinecolor\":\"white\",\"gridwidth\":2},\"zaxis\":{\"backgroundcolor\":\"#E5ECF6\",\"gridcolor\":\"white\",\"linecolor\":\"white\",\"showbackground\":true,\"ticks\":\"\",\"zerolinecolor\":\"white\",\"gridwidth\":2}},\"shapedefaults\":{\"line\":{\"color\":\"#2a3f5f\"}},\"annotationdefaults\":{\"arrowcolor\":\"#2a3f5f\",\"arrowhead\":0,\"arrowwidth\":1},\"geo\":{\"bgcolor\":\"white\",\"landcolor\":\"#E5ECF6\",\"subunitcolor\":\"white\",\"showland\":true,\"showlakes\":true,\"lakecolor\":\"white\"},\"title\":{\"x\":0.05},\"mapbox\":{\"style\":\"light\"}}},\"legend\":{\"tracegroupgap\":0},\"title\":{\"text\":\"Distribución de Hombres y Mujeres en la encuesta\"},\"piecolorway\":[\"rgb(27,158,119)\",\"rgb(217,95,2)\",\"rgb(117,112,179)\",\"rgb(231,41,138)\",\"rgb(102,166,30)\",\"rgb(230,171,2)\",\"rgb(166,118,29)\",\"rgb(102,102,102)\"]},                        {\"responsive\": true}                    ).then(function(){\n",
              "                            \n",
              "var gd = document.getElementById('94855148-d64d-4b65-91f7-382b768d8623');\n",
              "var x = new MutationObserver(function (mutations, observer) {{\n",
              "        var display = window.getComputedStyle(gd).display;\n",
              "        if (!display || display === 'none') {{\n",
              "            console.log([gd, 'removed!']);\n",
              "            Plotly.purge(gd);\n",
              "            observer.disconnect();\n",
              "        }}\n",
              "}});\n",
              "\n",
              "// Listen for the removal of the full notebook cells\n",
              "var notebookContainer = gd.closest('#notebook-container');\n",
              "if (notebookContainer) {{\n",
              "    x.observe(notebookContainer, {childList: true});\n",
              "}}\n",
              "\n",
              "// Listen for the clearing of the current output cell\n",
              "var outputEl = gd.closest('.output');\n",
              "if (outputEl) {{\n",
              "    x.observe(outputEl, {childList: true});\n",
              "}}\n",
              "\n",
              "                        })                };                            </script>        </div>\n",
              "</body>\n",
              "</html>"
            ]
          },
          "metadata": {}
        }
      ]
    },
    {
      "cell_type": "code",
      "source": [
        "fig = px.histogram(\n",
        "    df_undergraduate,\n",
        "    x='Sleep_Hours_Per_Night',\n",
        "    nbins=10,\n",
        "    title='Distribución de horas de sueño'\n",
        ")\n",
        "fig.update_layout(\n",
        "    xaxis_title='Horas de sueño',\n",
        "    yaxis_title='Número de estudiantes'\n",
        ")\n",
        "fig.show()"
      ],
      "metadata": {
        "colab": {
          "base_uri": "https://localhost:8080/",
          "height": 542
        },
        "id": "tzqc5jqNn1YB",
        "outputId": "e4570463-c838-4fb1-e296-92ebb2f247ad"
      },
      "execution_count": null,
      "outputs": [
        {
          "output_type": "display_data",
          "data": {
            "text/html": [
              "<html>\n",
              "<head><meta charset=\"utf-8\" /></head>\n",
              "<body>\n",
              "    <div>            <script src=\"https://cdnjs.cloudflare.com/ajax/libs/mathjax/2.7.5/MathJax.js?config=TeX-AMS-MML_SVG\"></script><script type=\"text/javascript\">if (window.MathJax && window.MathJax.Hub && window.MathJax.Hub.Config) {window.MathJax.Hub.Config({SVG: {font: \"STIX-Web\"}});}</script>                <script type=\"text/javascript\">window.PlotlyConfig = {MathJaxConfig: 'local'};</script>\n",
              "        <script charset=\"utf-8\" src=\"https://cdn.plot.ly/plotly-2.35.2.min.js\"></script>                <div id=\"367e827a-049b-4e04-9f4f-e8090131886a\" class=\"plotly-graph-div\" style=\"height:525px; width:100%;\"></div>            <script type=\"text/javascript\">                                    window.PLOTLYENV=window.PLOTLYENV || {};                                    if (document.getElementById(\"367e827a-049b-4e04-9f4f-e8090131886a\")) {                    Plotly.newPlot(                        \"367e827a-049b-4e04-9f4f-e8090131886a\",                        [{\"alignmentgroup\":\"True\",\"bingroup\":\"x\",\"hovertemplate\":\"Sleep_Hours_Per_Night=%{x}\\u003cbr\\u003ecount=%{y}\\u003cextra\\u003e\\u003c\\u002fextra\\u003e\",\"legendgroup\":\"\",\"marker\":{\"color\":\"#636efa\",\"pattern\":{\"shape\":\"\"}},\"name\":\"\",\"nbinsx\":10,\"offsetgroup\":\"\",\"orientation\":\"v\",\"showlegend\":false,\"x\":[6.5,5.0,4.5,6.0,6.2,5.8,6.8,6.0,6.7,5.9,5.8,5.4,6.6,5.9,6.7,5.7,5.8,5.5,6.5,5.8,6.6,5.7,5.9,5.6,6.4,5.8,6.5,5.6,5.9,5.7,5.6,6.0,5.8,6.5,5.9,5.7,5.3,5.8,5.9,5.7,6.6,5.8,6.0,5.8,6.5,5.7,5.9,5.5,5.8,5.7,6.6,5.8,6.2,5.9,7.1,6.3,7.2,6.1,6.2,5.9,6.3,7.5,5.7,7.6,7.7,6.6,6.7,5.4,5.3,8.0,8.1,7.0,7.1,5.0,4.9,8.4,8.5,7.4,7.5,4.6,6.1,5.9,7.0,6.4,5.8,7.3,6.6,5.6,7.5,6.8,5.4,7.7,7.0,5.2,7.9,7.2,5.0,8.1,7.4,4.8,8.3,7.6,4.6,8.5,7.8,4.4,8.7,8.0,4.2,8.9,6.0,7.5,7.9,6.5,5.8,7.4,8.0,6.8,5.9,7.3,7.8,6.6,5.7,7.2,8.1,6.9,5.8,7.4,8.2,6.7,5.6,7.5,8.3,7.0,5.7,7.3,8.4,7.1,5.5,7.4,8.5,7.2,5.4,7.5,8.6,7.3,5.3,7.6,8.7,7.4,5.2,7.7,8.8,7.5,5.1,7.8,8.9,7.6,5.0,7.9,6.8,7.0,7.9,5.5,7.5,6.7,7.1,8.0,5.4,7.6,6.9,7.2,8.1,5.3,7.7,7.0,7.3,8.2,5.2,7.8,7.1,7.4,8.3,5.1,7.9,7.2,7.5,8.4,5.0,8.0,7.3,7.6,8.5,4.9,8.1,7.4,7.7,8.6,4.8,8.2,7.5,7.8,8.7,4.7,8.3,7.6,7.9,8.8,4.6,8.4,7.7,8.0,8.9,4.5,8.5,7.8,8.1,9.0,4.4,8.6,7.9,8.2,9.1,4.3,8.7,8.0,8.3,9.2,4.2,8.8,8.1,8.4,9.3,4.1,8.9,8.2,8.5,9.4,4.0,9.0,8.3,8.6,9.5,3.9,9.1,8.4,8.7,9.6,3.8,9.2,6.3,8.2,7.0,6.5,6.0,6.4,8.3,6.9,6.4,5.9,6.5,8.4,6.8,6.3,5.8,6.6,8.5,6.7,6.2,5.7,6.7,8.6,6.6,6.1,5.6,6.8,8.7,6.5,6.0,5.5,6.9,8.8,6.4,5.9,5.4,7.2,6.8,7.5,6.7,7.4,6.4,6.0,7.6,7.7,7.4,5.8,6.1,6.3,6.7,6.2,6.0,7.6,7.4,7.2,5.7,6.2,6.1,6.7,7.2,6.8,6.3,6.2,6.6,7.3,6.8,7.2,6.3,5.9,7.4,7.5,7.3,5.7,6.0,7.1,6.3,5.9,7.5,7.4,7.3,5.8,6.0,6.2,6.7,7.1,6.7,6.4,6.2,6.5,7.2,6.8,7.2,6.4,6.0,7.5,7.4,7.3,5.8,6.1,6.2,6.6,7.2,6.7,6.3],\"xaxis\":\"x\",\"yaxis\":\"y\",\"type\":\"histogram\"}],                        {\"template\":{\"data\":{\"histogram2dcontour\":[{\"type\":\"histogram2dcontour\",\"colorbar\":{\"outlinewidth\":0,\"ticks\":\"\"},\"colorscale\":[[0.0,\"#0d0887\"],[0.1111111111111111,\"#46039f\"],[0.2222222222222222,\"#7201a8\"],[0.3333333333333333,\"#9c179e\"],[0.4444444444444444,\"#bd3786\"],[0.5555555555555556,\"#d8576b\"],[0.6666666666666666,\"#ed7953\"],[0.7777777777777778,\"#fb9f3a\"],[0.8888888888888888,\"#fdca26\"],[1.0,\"#f0f921\"]]}],\"choropleth\":[{\"type\":\"choropleth\",\"colorbar\":{\"outlinewidth\":0,\"ticks\":\"\"}}],\"histogram2d\":[{\"type\":\"histogram2d\",\"colorbar\":{\"outlinewidth\":0,\"ticks\":\"\"},\"colorscale\":[[0.0,\"#0d0887\"],[0.1111111111111111,\"#46039f\"],[0.2222222222222222,\"#7201a8\"],[0.3333333333333333,\"#9c179e\"],[0.4444444444444444,\"#bd3786\"],[0.5555555555555556,\"#d8576b\"],[0.6666666666666666,\"#ed7953\"],[0.7777777777777778,\"#fb9f3a\"],[0.8888888888888888,\"#fdca26\"],[1.0,\"#f0f921\"]]}],\"heatmap\":[{\"type\":\"heatmap\",\"colorbar\":{\"outlinewidth\":0,\"ticks\":\"\"},\"colorscale\":[[0.0,\"#0d0887\"],[0.1111111111111111,\"#46039f\"],[0.2222222222222222,\"#7201a8\"],[0.3333333333333333,\"#9c179e\"],[0.4444444444444444,\"#bd3786\"],[0.5555555555555556,\"#d8576b\"],[0.6666666666666666,\"#ed7953\"],[0.7777777777777778,\"#fb9f3a\"],[0.8888888888888888,\"#fdca26\"],[1.0,\"#f0f921\"]]}],\"heatmapgl\":[{\"type\":\"heatmapgl\",\"colorbar\":{\"outlinewidth\":0,\"ticks\":\"\"},\"colorscale\":[[0.0,\"#0d0887\"],[0.1111111111111111,\"#46039f\"],[0.2222222222222222,\"#7201a8\"],[0.3333333333333333,\"#9c179e\"],[0.4444444444444444,\"#bd3786\"],[0.5555555555555556,\"#d8576b\"],[0.6666666666666666,\"#ed7953\"],[0.7777777777777778,\"#fb9f3a\"],[0.8888888888888888,\"#fdca26\"],[1.0,\"#f0f921\"]]}],\"contourcarpet\":[{\"type\":\"contourcarpet\",\"colorbar\":{\"outlinewidth\":0,\"ticks\":\"\"}}],\"contour\":[{\"type\":\"contour\",\"colorbar\":{\"outlinewidth\":0,\"ticks\":\"\"},\"colorscale\":[[0.0,\"#0d0887\"],[0.1111111111111111,\"#46039f\"],[0.2222222222222222,\"#7201a8\"],[0.3333333333333333,\"#9c179e\"],[0.4444444444444444,\"#bd3786\"],[0.5555555555555556,\"#d8576b\"],[0.6666666666666666,\"#ed7953\"],[0.7777777777777778,\"#fb9f3a\"],[0.8888888888888888,\"#fdca26\"],[1.0,\"#f0f921\"]]}],\"surface\":[{\"type\":\"surface\",\"colorbar\":{\"outlinewidth\":0,\"ticks\":\"\"},\"colorscale\":[[0.0,\"#0d0887\"],[0.1111111111111111,\"#46039f\"],[0.2222222222222222,\"#7201a8\"],[0.3333333333333333,\"#9c179e\"],[0.4444444444444444,\"#bd3786\"],[0.5555555555555556,\"#d8576b\"],[0.6666666666666666,\"#ed7953\"],[0.7777777777777778,\"#fb9f3a\"],[0.8888888888888888,\"#fdca26\"],[1.0,\"#f0f921\"]]}],\"mesh3d\":[{\"type\":\"mesh3d\",\"colorbar\":{\"outlinewidth\":0,\"ticks\":\"\"}}],\"scatter\":[{\"fillpattern\":{\"fillmode\":\"overlay\",\"size\":10,\"solidity\":0.2},\"type\":\"scatter\"}],\"parcoords\":[{\"type\":\"parcoords\",\"line\":{\"colorbar\":{\"outlinewidth\":0,\"ticks\":\"\"}}}],\"scatterpolargl\":[{\"type\":\"scatterpolargl\",\"marker\":{\"colorbar\":{\"outlinewidth\":0,\"ticks\":\"\"}}}],\"bar\":[{\"error_x\":{\"color\":\"#2a3f5f\"},\"error_y\":{\"color\":\"#2a3f5f\"},\"marker\":{\"line\":{\"color\":\"#E5ECF6\",\"width\":0.5},\"pattern\":{\"fillmode\":\"overlay\",\"size\":10,\"solidity\":0.2}},\"type\":\"bar\"}],\"scattergeo\":[{\"type\":\"scattergeo\",\"marker\":{\"colorbar\":{\"outlinewidth\":0,\"ticks\":\"\"}}}],\"scatterpolar\":[{\"type\":\"scatterpolar\",\"marker\":{\"colorbar\":{\"outlinewidth\":0,\"ticks\":\"\"}}}],\"histogram\":[{\"marker\":{\"pattern\":{\"fillmode\":\"overlay\",\"size\":10,\"solidity\":0.2}},\"type\":\"histogram\"}],\"scattergl\":[{\"type\":\"scattergl\",\"marker\":{\"colorbar\":{\"outlinewidth\":0,\"ticks\":\"\"}}}],\"scatter3d\":[{\"type\":\"scatter3d\",\"line\":{\"colorbar\":{\"outlinewidth\":0,\"ticks\":\"\"}},\"marker\":{\"colorbar\":{\"outlinewidth\":0,\"ticks\":\"\"}}}],\"scattermapbox\":[{\"type\":\"scattermapbox\",\"marker\":{\"colorbar\":{\"outlinewidth\":0,\"ticks\":\"\"}}}],\"scatterternary\":[{\"type\":\"scatterternary\",\"marker\":{\"colorbar\":{\"outlinewidth\":0,\"ticks\":\"\"}}}],\"scattercarpet\":[{\"type\":\"scattercarpet\",\"marker\":{\"colorbar\":{\"outlinewidth\":0,\"ticks\":\"\"}}}],\"carpet\":[{\"aaxis\":{\"endlinecolor\":\"#2a3f5f\",\"gridcolor\":\"white\",\"linecolor\":\"white\",\"minorgridcolor\":\"white\",\"startlinecolor\":\"#2a3f5f\"},\"baxis\":{\"endlinecolor\":\"#2a3f5f\",\"gridcolor\":\"white\",\"linecolor\":\"white\",\"minorgridcolor\":\"white\",\"startlinecolor\":\"#2a3f5f\"},\"type\":\"carpet\"}],\"table\":[{\"cells\":{\"fill\":{\"color\":\"#EBF0F8\"},\"line\":{\"color\":\"white\"}},\"header\":{\"fill\":{\"color\":\"#C8D4E3\"},\"line\":{\"color\":\"white\"}},\"type\":\"table\"}],\"barpolar\":[{\"marker\":{\"line\":{\"color\":\"#E5ECF6\",\"width\":0.5},\"pattern\":{\"fillmode\":\"overlay\",\"size\":10,\"solidity\":0.2}},\"type\":\"barpolar\"}],\"pie\":[{\"automargin\":true,\"type\":\"pie\"}]},\"layout\":{\"autotypenumbers\":\"strict\",\"colorway\":[\"#636efa\",\"#EF553B\",\"#00cc96\",\"#ab63fa\",\"#FFA15A\",\"#19d3f3\",\"#FF6692\",\"#B6E880\",\"#FF97FF\",\"#FECB52\"],\"font\":{\"color\":\"#2a3f5f\"},\"hovermode\":\"closest\",\"hoverlabel\":{\"align\":\"left\"},\"paper_bgcolor\":\"white\",\"plot_bgcolor\":\"#E5ECF6\",\"polar\":{\"bgcolor\":\"#E5ECF6\",\"angularaxis\":{\"gridcolor\":\"white\",\"linecolor\":\"white\",\"ticks\":\"\"},\"radialaxis\":{\"gridcolor\":\"white\",\"linecolor\":\"white\",\"ticks\":\"\"}},\"ternary\":{\"bgcolor\":\"#E5ECF6\",\"aaxis\":{\"gridcolor\":\"white\",\"linecolor\":\"white\",\"ticks\":\"\"},\"baxis\":{\"gridcolor\":\"white\",\"linecolor\":\"white\",\"ticks\":\"\"},\"caxis\":{\"gridcolor\":\"white\",\"linecolor\":\"white\",\"ticks\":\"\"}},\"coloraxis\":{\"colorbar\":{\"outlinewidth\":0,\"ticks\":\"\"}},\"colorscale\":{\"sequential\":[[0.0,\"#0d0887\"],[0.1111111111111111,\"#46039f\"],[0.2222222222222222,\"#7201a8\"],[0.3333333333333333,\"#9c179e\"],[0.4444444444444444,\"#bd3786\"],[0.5555555555555556,\"#d8576b\"],[0.6666666666666666,\"#ed7953\"],[0.7777777777777778,\"#fb9f3a\"],[0.8888888888888888,\"#fdca26\"],[1.0,\"#f0f921\"]],\"sequentialminus\":[[0.0,\"#0d0887\"],[0.1111111111111111,\"#46039f\"],[0.2222222222222222,\"#7201a8\"],[0.3333333333333333,\"#9c179e\"],[0.4444444444444444,\"#bd3786\"],[0.5555555555555556,\"#d8576b\"],[0.6666666666666666,\"#ed7953\"],[0.7777777777777778,\"#fb9f3a\"],[0.8888888888888888,\"#fdca26\"],[1.0,\"#f0f921\"]],\"diverging\":[[0,\"#8e0152\"],[0.1,\"#c51b7d\"],[0.2,\"#de77ae\"],[0.3,\"#f1b6da\"],[0.4,\"#fde0ef\"],[0.5,\"#f7f7f7\"],[0.6,\"#e6f5d0\"],[0.7,\"#b8e186\"],[0.8,\"#7fbc41\"],[0.9,\"#4d9221\"],[1,\"#276419\"]]},\"xaxis\":{\"gridcolor\":\"white\",\"linecolor\":\"white\",\"ticks\":\"\",\"title\":{\"standoff\":15},\"zerolinecolor\":\"white\",\"automargin\":true,\"zerolinewidth\":2},\"yaxis\":{\"gridcolor\":\"white\",\"linecolor\":\"white\",\"ticks\":\"\",\"title\":{\"standoff\":15},\"zerolinecolor\":\"white\",\"automargin\":true,\"zerolinewidth\":2},\"scene\":{\"xaxis\":{\"backgroundcolor\":\"#E5ECF6\",\"gridcolor\":\"white\",\"linecolor\":\"white\",\"showbackground\":true,\"ticks\":\"\",\"zerolinecolor\":\"white\",\"gridwidth\":2},\"yaxis\":{\"backgroundcolor\":\"#E5ECF6\",\"gridcolor\":\"white\",\"linecolor\":\"white\",\"showbackground\":true,\"ticks\":\"\",\"zerolinecolor\":\"white\",\"gridwidth\":2},\"zaxis\":{\"backgroundcolor\":\"#E5ECF6\",\"gridcolor\":\"white\",\"linecolor\":\"white\",\"showbackground\":true,\"ticks\":\"\",\"zerolinecolor\":\"white\",\"gridwidth\":2}},\"shapedefaults\":{\"line\":{\"color\":\"#2a3f5f\"}},\"annotationdefaults\":{\"arrowcolor\":\"#2a3f5f\",\"arrowhead\":0,\"arrowwidth\":1},\"geo\":{\"bgcolor\":\"white\",\"landcolor\":\"#E5ECF6\",\"subunitcolor\":\"white\",\"showland\":true,\"showlakes\":true,\"lakecolor\":\"white\"},\"title\":{\"x\":0.05},\"mapbox\":{\"style\":\"light\"}}},\"xaxis\":{\"anchor\":\"y\",\"domain\":[0.0,1.0],\"title\":{\"text\":\"Horas de sueño\"}},\"yaxis\":{\"anchor\":\"x\",\"domain\":[0.0,1.0],\"title\":{\"text\":\"Número de estudiantes\"}},\"legend\":{\"tracegroupgap\":0},\"title\":{\"text\":\"Distribución de horas de sueño\"},\"barmode\":\"relative\"},                        {\"responsive\": true}                    ).then(function(){\n",
              "                            \n",
              "var gd = document.getElementById('367e827a-049b-4e04-9f4f-e8090131886a');\n",
              "var x = new MutationObserver(function (mutations, observer) {{\n",
              "        var display = window.getComputedStyle(gd).display;\n",
              "        if (!display || display === 'none') {{\n",
              "            console.log([gd, 'removed!']);\n",
              "            Plotly.purge(gd);\n",
              "            observer.disconnect();\n",
              "        }}\n",
              "}});\n",
              "\n",
              "// Listen for the removal of the full notebook cells\n",
              "var notebookContainer = gd.closest('#notebook-container');\n",
              "if (notebookContainer) {{\n",
              "    x.observe(notebookContainer, {childList: true});\n",
              "}}\n",
              "\n",
              "// Listen for the clearing of the current output cell\n",
              "var outputEl = gd.closest('.output');\n",
              "if (outputEl) {{\n",
              "    x.observe(outputEl, {childList: true});\n",
              "}}\n",
              "\n",
              "                        })                };                            </script>        </div>\n",
              "</body>\n",
              "</html>"
            ]
          },
          "metadata": {}
        }
      ]
    },
    {
      "cell_type": "markdown",
      "source": [
        "A partir de las primeras dos visualizaciones, se pueden descatar algunos aspectos importantes del perfil de los encuestados:\n",
        "\n",
        "*   La mayoría de las respuestas provienen de mujeres, lo que puede influir en los resultados, especialmente si existen diferencias de género en los hábitos de uso de redes sociales o patrones de sueño.\n",
        "*   Aunque el promedio general parece centrarse entre 6 y 8 horas, se observa una variabilidad importante. Esto indica que no todos los estudiantes mantienen un mismo patrón de descanso, lo cual puede estar influenciado por factores como la carga académica o el uso de redes sociales.\n",
        "\n"
      ],
      "metadata": {
        "id": "9EQDxWvAbRGp"
      }
    },
    {
      "cell_type": "code",
      "source": [
        "combined_df = pd.merge(\n",
        "    df_undergraduate['Most_Used_Platform'].value_counts().rename('Cantidad de usuarios'),\n",
        "    df_undergraduate.groupby('Most_Used_Platform')['Avg_Daily_Usage_Hours'].mean().rename('Promedio de uso diario'),\n",
        "    left_index = True,\n",
        "    right_index = True\n",
        ")\n",
        "\n",
        "combined_df = combined_df.sort_values(by='Cantidad de usuarios', ascending=False)\n",
        "\n",
        "colors = px.colors.qualitative.Dark2\n",
        "colors_repeated = colors * (len(combined_df) // len(colors) + 1)\n",
        "colors_repeated = colors_repeated[:len(combined_df)]\n",
        "\n",
        "fig = go.Figure()\n",
        "\n",
        "fig.add_trace(go.Bar(\n",
        "    x=combined_df.index,\n",
        "    y=combined_df['Cantidad de usuarios'],\n",
        "    name='Cantidad de usuarios',\n",
        "    marker_color=colors_repeated,\n",
        "    text=combined_df['Cantidad de usuarios'],\n",
        "    textposition='outside'\n",
        "))\n",
        "\n",
        "fig.add_trace(go.Bar(\n",
        "    x=combined_df.index,\n",
        "    y=combined_df['Promedio de uso diario'],\n",
        "    name='Uso promedio diario (horas)',\n",
        "    marker_color='red',\n",
        "    text=combined_df['Promedio de uso diario'].round(2),\n",
        "    textposition='outside'\n",
        "))\n",
        "\n",
        "fig.update_layout(\n",
        "    title='Uso de plataformas: Cantidad de usuarios y uso promedio diario',\n",
        "    xaxis_title='Plataformas',\n",
        "    yaxis_title='Valor',\n",
        "    barmode='group',\n",
        "    xaxis_tickangle=-45\n",
        ")\n",
        "\n",
        "fig.show()\n"
      ],
      "metadata": {
        "colab": {
          "base_uri": "https://localhost:8080/",
          "height": 542
        },
        "id": "Ko8c6eE99aE6",
        "outputId": "a6767bb1-8387-43a2-e0c8-ba3f48db6649"
      },
      "execution_count": null,
      "outputs": [
        {
          "output_type": "display_data",
          "data": {
            "text/html": [
              "<html>\n",
              "<head><meta charset=\"utf-8\" /></head>\n",
              "<body>\n",
              "    <div>            <script src=\"https://cdnjs.cloudflare.com/ajax/libs/mathjax/2.7.5/MathJax.js?config=TeX-AMS-MML_SVG\"></script><script type=\"text/javascript\">if (window.MathJax && window.MathJax.Hub && window.MathJax.Hub.Config) {window.MathJax.Hub.Config({SVG: {font: \"STIX-Web\"}});}</script>                <script type=\"text/javascript\">window.PlotlyConfig = {MathJaxConfig: 'local'};</script>\n",
              "        <script charset=\"utf-8\" src=\"https://cdn.plot.ly/plotly-2.35.2.min.js\"></script>                <div id=\"5560332c-588d-4b5a-97b5-b9a098c7f496\" class=\"plotly-graph-div\" style=\"height:525px; width:100%;\"></div>            <script type=\"text/javascript\">                                    window.PLOTLYENV=window.PLOTLYENV || {};                                    if (document.getElementById(\"5560332c-588d-4b5a-97b5-b9a098c7f496\")) {                    Plotly.newPlot(                        \"5560332c-588d-4b5a-97b5-b9a098c7f496\",                        [{\"marker\":{\"color\":[\"rgb(27,158,119)\",\"rgb(217,95,2)\",\"rgb(117,112,179)\",\"rgb(231,41,138)\",\"rgb(102,166,30)\",\"rgb(230,171,2)\",\"rgb(166,118,29)\",\"rgb(102,102,102)\",\"rgb(27,158,119)\",\"rgb(217,95,2)\"]},\"name\":\"Cantidad de usuarios\",\"text\":[155.0,95.0,36.0,13.0,12.0,12.0,11.0,8.0,8.0,3.0],\"textposition\":\"outside\",\"x\":[\"Instagram\",\"TikTok\",\"Facebook\",\"Twitter\",\"KakaoTalk\",\"LINE\",\"WhatsApp\",\"YouTube\",\"Snapchat\",\"WeChat\"],\"y\":[155,95,36,13,12,12,11,8,8,3],\"type\":\"bar\"},{\"marker\":{\"color\":\"red\"},\"name\":\"Uso promedio diario (horas)\",\"text\":[4.83,5.49,4.89,4.86,4.73,3.25,6.66,4.0,4.74,5.63],\"textposition\":\"outside\",\"x\":[\"Instagram\",\"TikTok\",\"Facebook\",\"Twitter\",\"KakaoTalk\",\"LINE\",\"WhatsApp\",\"YouTube\",\"Snapchat\",\"WeChat\"],\"y\":[4.834193548387097,5.487368421052631,4.886111111111111,4.861538461538462,4.7250000000000005,3.25,6.663636363636363,4.0,4.7375,5.633333333333333],\"type\":\"bar\"}],                        {\"template\":{\"data\":{\"histogram2dcontour\":[{\"type\":\"histogram2dcontour\",\"colorbar\":{\"outlinewidth\":0,\"ticks\":\"\"},\"colorscale\":[[0.0,\"#0d0887\"],[0.1111111111111111,\"#46039f\"],[0.2222222222222222,\"#7201a8\"],[0.3333333333333333,\"#9c179e\"],[0.4444444444444444,\"#bd3786\"],[0.5555555555555556,\"#d8576b\"],[0.6666666666666666,\"#ed7953\"],[0.7777777777777778,\"#fb9f3a\"],[0.8888888888888888,\"#fdca26\"],[1.0,\"#f0f921\"]]}],\"choropleth\":[{\"type\":\"choropleth\",\"colorbar\":{\"outlinewidth\":0,\"ticks\":\"\"}}],\"histogram2d\":[{\"type\":\"histogram2d\",\"colorbar\":{\"outlinewidth\":0,\"ticks\":\"\"},\"colorscale\":[[0.0,\"#0d0887\"],[0.1111111111111111,\"#46039f\"],[0.2222222222222222,\"#7201a8\"],[0.3333333333333333,\"#9c179e\"],[0.4444444444444444,\"#bd3786\"],[0.5555555555555556,\"#d8576b\"],[0.6666666666666666,\"#ed7953\"],[0.7777777777777778,\"#fb9f3a\"],[0.8888888888888888,\"#fdca26\"],[1.0,\"#f0f921\"]]}],\"heatmap\":[{\"type\":\"heatmap\",\"colorbar\":{\"outlinewidth\":0,\"ticks\":\"\"},\"colorscale\":[[0.0,\"#0d0887\"],[0.1111111111111111,\"#46039f\"],[0.2222222222222222,\"#7201a8\"],[0.3333333333333333,\"#9c179e\"],[0.4444444444444444,\"#bd3786\"],[0.5555555555555556,\"#d8576b\"],[0.6666666666666666,\"#ed7953\"],[0.7777777777777778,\"#fb9f3a\"],[0.8888888888888888,\"#fdca26\"],[1.0,\"#f0f921\"]]}],\"heatmapgl\":[{\"type\":\"heatmapgl\",\"colorbar\":{\"outlinewidth\":0,\"ticks\":\"\"},\"colorscale\":[[0.0,\"#0d0887\"],[0.1111111111111111,\"#46039f\"],[0.2222222222222222,\"#7201a8\"],[0.3333333333333333,\"#9c179e\"],[0.4444444444444444,\"#bd3786\"],[0.5555555555555556,\"#d8576b\"],[0.6666666666666666,\"#ed7953\"],[0.7777777777777778,\"#fb9f3a\"],[0.8888888888888888,\"#fdca26\"],[1.0,\"#f0f921\"]]}],\"contourcarpet\":[{\"type\":\"contourcarpet\",\"colorbar\":{\"outlinewidth\":0,\"ticks\":\"\"}}],\"contour\":[{\"type\":\"contour\",\"colorbar\":{\"outlinewidth\":0,\"ticks\":\"\"},\"colorscale\":[[0.0,\"#0d0887\"],[0.1111111111111111,\"#46039f\"],[0.2222222222222222,\"#7201a8\"],[0.3333333333333333,\"#9c179e\"],[0.4444444444444444,\"#bd3786\"],[0.5555555555555556,\"#d8576b\"],[0.6666666666666666,\"#ed7953\"],[0.7777777777777778,\"#fb9f3a\"],[0.8888888888888888,\"#fdca26\"],[1.0,\"#f0f921\"]]}],\"surface\":[{\"type\":\"surface\",\"colorbar\":{\"outlinewidth\":0,\"ticks\":\"\"},\"colorscale\":[[0.0,\"#0d0887\"],[0.1111111111111111,\"#46039f\"],[0.2222222222222222,\"#7201a8\"],[0.3333333333333333,\"#9c179e\"],[0.4444444444444444,\"#bd3786\"],[0.5555555555555556,\"#d8576b\"],[0.6666666666666666,\"#ed7953\"],[0.7777777777777778,\"#fb9f3a\"],[0.8888888888888888,\"#fdca26\"],[1.0,\"#f0f921\"]]}],\"mesh3d\":[{\"type\":\"mesh3d\",\"colorbar\":{\"outlinewidth\":0,\"ticks\":\"\"}}],\"scatter\":[{\"fillpattern\":{\"fillmode\":\"overlay\",\"size\":10,\"solidity\":0.2},\"type\":\"scatter\"}],\"parcoords\":[{\"type\":\"parcoords\",\"line\":{\"colorbar\":{\"outlinewidth\":0,\"ticks\":\"\"}}}],\"scatterpolargl\":[{\"type\":\"scatterpolargl\",\"marker\":{\"colorbar\":{\"outlinewidth\":0,\"ticks\":\"\"}}}],\"bar\":[{\"error_x\":{\"color\":\"#2a3f5f\"},\"error_y\":{\"color\":\"#2a3f5f\"},\"marker\":{\"line\":{\"color\":\"#E5ECF6\",\"width\":0.5},\"pattern\":{\"fillmode\":\"overlay\",\"size\":10,\"solidity\":0.2}},\"type\":\"bar\"}],\"scattergeo\":[{\"type\":\"scattergeo\",\"marker\":{\"colorbar\":{\"outlinewidth\":0,\"ticks\":\"\"}}}],\"scatterpolar\":[{\"type\":\"scatterpolar\",\"marker\":{\"colorbar\":{\"outlinewidth\":0,\"ticks\":\"\"}}}],\"histogram\":[{\"marker\":{\"pattern\":{\"fillmode\":\"overlay\",\"size\":10,\"solidity\":0.2}},\"type\":\"histogram\"}],\"scattergl\":[{\"type\":\"scattergl\",\"marker\":{\"colorbar\":{\"outlinewidth\":0,\"ticks\":\"\"}}}],\"scatter3d\":[{\"type\":\"scatter3d\",\"line\":{\"colorbar\":{\"outlinewidth\":0,\"ticks\":\"\"}},\"marker\":{\"colorbar\":{\"outlinewidth\":0,\"ticks\":\"\"}}}],\"scattermapbox\":[{\"type\":\"scattermapbox\",\"marker\":{\"colorbar\":{\"outlinewidth\":0,\"ticks\":\"\"}}}],\"scatterternary\":[{\"type\":\"scatterternary\",\"marker\":{\"colorbar\":{\"outlinewidth\":0,\"ticks\":\"\"}}}],\"scattercarpet\":[{\"type\":\"scattercarpet\",\"marker\":{\"colorbar\":{\"outlinewidth\":0,\"ticks\":\"\"}}}],\"carpet\":[{\"aaxis\":{\"endlinecolor\":\"#2a3f5f\",\"gridcolor\":\"white\",\"linecolor\":\"white\",\"minorgridcolor\":\"white\",\"startlinecolor\":\"#2a3f5f\"},\"baxis\":{\"endlinecolor\":\"#2a3f5f\",\"gridcolor\":\"white\",\"linecolor\":\"white\",\"minorgridcolor\":\"white\",\"startlinecolor\":\"#2a3f5f\"},\"type\":\"carpet\"}],\"table\":[{\"cells\":{\"fill\":{\"color\":\"#EBF0F8\"},\"line\":{\"color\":\"white\"}},\"header\":{\"fill\":{\"color\":\"#C8D4E3\"},\"line\":{\"color\":\"white\"}},\"type\":\"table\"}],\"barpolar\":[{\"marker\":{\"line\":{\"color\":\"#E5ECF6\",\"width\":0.5},\"pattern\":{\"fillmode\":\"overlay\",\"size\":10,\"solidity\":0.2}},\"type\":\"barpolar\"}],\"pie\":[{\"automargin\":true,\"type\":\"pie\"}]},\"layout\":{\"autotypenumbers\":\"strict\",\"colorway\":[\"#636efa\",\"#EF553B\",\"#00cc96\",\"#ab63fa\",\"#FFA15A\",\"#19d3f3\",\"#FF6692\",\"#B6E880\",\"#FF97FF\",\"#FECB52\"],\"font\":{\"color\":\"#2a3f5f\"},\"hovermode\":\"closest\",\"hoverlabel\":{\"align\":\"left\"},\"paper_bgcolor\":\"white\",\"plot_bgcolor\":\"#E5ECF6\",\"polar\":{\"bgcolor\":\"#E5ECF6\",\"angularaxis\":{\"gridcolor\":\"white\",\"linecolor\":\"white\",\"ticks\":\"\"},\"radialaxis\":{\"gridcolor\":\"white\",\"linecolor\":\"white\",\"ticks\":\"\"}},\"ternary\":{\"bgcolor\":\"#E5ECF6\",\"aaxis\":{\"gridcolor\":\"white\",\"linecolor\":\"white\",\"ticks\":\"\"},\"baxis\":{\"gridcolor\":\"white\",\"linecolor\":\"white\",\"ticks\":\"\"},\"caxis\":{\"gridcolor\":\"white\",\"linecolor\":\"white\",\"ticks\":\"\"}},\"coloraxis\":{\"colorbar\":{\"outlinewidth\":0,\"ticks\":\"\"}},\"colorscale\":{\"sequential\":[[0.0,\"#0d0887\"],[0.1111111111111111,\"#46039f\"],[0.2222222222222222,\"#7201a8\"],[0.3333333333333333,\"#9c179e\"],[0.4444444444444444,\"#bd3786\"],[0.5555555555555556,\"#d8576b\"],[0.6666666666666666,\"#ed7953\"],[0.7777777777777778,\"#fb9f3a\"],[0.8888888888888888,\"#fdca26\"],[1.0,\"#f0f921\"]],\"sequentialminus\":[[0.0,\"#0d0887\"],[0.1111111111111111,\"#46039f\"],[0.2222222222222222,\"#7201a8\"],[0.3333333333333333,\"#9c179e\"],[0.4444444444444444,\"#bd3786\"],[0.5555555555555556,\"#d8576b\"],[0.6666666666666666,\"#ed7953\"],[0.7777777777777778,\"#fb9f3a\"],[0.8888888888888888,\"#fdca26\"],[1.0,\"#f0f921\"]],\"diverging\":[[0,\"#8e0152\"],[0.1,\"#c51b7d\"],[0.2,\"#de77ae\"],[0.3,\"#f1b6da\"],[0.4,\"#fde0ef\"],[0.5,\"#f7f7f7\"],[0.6,\"#e6f5d0\"],[0.7,\"#b8e186\"],[0.8,\"#7fbc41\"],[0.9,\"#4d9221\"],[1,\"#276419\"]]},\"xaxis\":{\"gridcolor\":\"white\",\"linecolor\":\"white\",\"ticks\":\"\",\"title\":{\"standoff\":15},\"zerolinecolor\":\"white\",\"automargin\":true,\"zerolinewidth\":2},\"yaxis\":{\"gridcolor\":\"white\",\"linecolor\":\"white\",\"ticks\":\"\",\"title\":{\"standoff\":15},\"zerolinecolor\":\"white\",\"automargin\":true,\"zerolinewidth\":2},\"scene\":{\"xaxis\":{\"backgroundcolor\":\"#E5ECF6\",\"gridcolor\":\"white\",\"linecolor\":\"white\",\"showbackground\":true,\"ticks\":\"\",\"zerolinecolor\":\"white\",\"gridwidth\":2},\"yaxis\":{\"backgroundcolor\":\"#E5ECF6\",\"gridcolor\":\"white\",\"linecolor\":\"white\",\"showbackground\":true,\"ticks\":\"\",\"zerolinecolor\":\"white\",\"gridwidth\":2},\"zaxis\":{\"backgroundcolor\":\"#E5ECF6\",\"gridcolor\":\"white\",\"linecolor\":\"white\",\"showbackground\":true,\"ticks\":\"\",\"zerolinecolor\":\"white\",\"gridwidth\":2}},\"shapedefaults\":{\"line\":{\"color\":\"#2a3f5f\"}},\"annotationdefaults\":{\"arrowcolor\":\"#2a3f5f\",\"arrowhead\":0,\"arrowwidth\":1},\"geo\":{\"bgcolor\":\"white\",\"landcolor\":\"#E5ECF6\",\"subunitcolor\":\"white\",\"showland\":true,\"showlakes\":true,\"lakecolor\":\"white\"},\"title\":{\"x\":0.05},\"mapbox\":{\"style\":\"light\"}}},\"xaxis\":{\"title\":{\"text\":\"Plataformas\"},\"tickangle\":-45},\"title\":{\"text\":\"Uso de plataformas: Cantidad de usuarios y uso promedio diario\"},\"yaxis\":{\"title\":{\"text\":\"Valor\"}},\"barmode\":\"group\"},                        {\"responsive\": true}                    ).then(function(){\n",
              "                            \n",
              "var gd = document.getElementById('5560332c-588d-4b5a-97b5-b9a098c7f496');\n",
              "var x = new MutationObserver(function (mutations, observer) {{\n",
              "        var display = window.getComputedStyle(gd).display;\n",
              "        if (!display || display === 'none') {{\n",
              "            console.log([gd, 'removed!']);\n",
              "            Plotly.purge(gd);\n",
              "            observer.disconnect();\n",
              "        }}\n",
              "}});\n",
              "\n",
              "// Listen for the removal of the full notebook cells\n",
              "var notebookContainer = gd.closest('#notebook-container');\n",
              "if (notebookContainer) {{\n",
              "    x.observe(notebookContainer, {childList: true});\n",
              "}}\n",
              "\n",
              "// Listen for the clearing of the current output cell\n",
              "var outputEl = gd.closest('.output');\n",
              "if (outputEl) {{\n",
              "    x.observe(outputEl, {childList: true});\n",
              "}}\n",
              "\n",
              "                        })                };                            </script>        </div>\n",
              "</body>\n",
              "</html>"
            ]
          },
          "metadata": {}
        }
      ]
    },
    {
      "cell_type": "markdown",
      "source": [
        "\n",
        "\n",
        "*   Se observa que ciertas aplicaciones destacan como las más utilizadas, siendo estas: **Instagram, Tiktok y Facebook**\n",
        "*   Y por otro lado, al separar la visualización del número de usuarios y el promedio de horas de uso por plataforma, se aprecia que no siempre las plataformas más usadas son las que absorben mas tiempo diario.\n"
      ],
      "metadata": {
        "id": "zM83px7Klp1x"
      }
    },
    {
      "cell_type": "code",
      "source": [
        "fig = px.scatter(\n",
        "      df_undergraduate,\n",
        "      x = 'Avg_Daily_Usage_Hours',\n",
        "      y = 'Sleep_Hours_Per_Night',\n",
        "      color= 'Gender',\n",
        "      trendline = 'ols',\n",
        "      title='Relacion entre uso de redes sociales y horas de sueño'\n",
        ")\n",
        "\n",
        "fig.update_layout(\n",
        "    xaxis_title='Uso diario (horas)',\n",
        "    yaxis_title='Horas de sueño (horas)'\n",
        ")\n",
        "\n",
        "fig.show()"
      ],
      "metadata": {
        "colab": {
          "base_uri": "https://localhost:8080/",
          "height": 542
        },
        "id": "Be_7H8T-b0lS",
        "outputId": "99bc88f1-b988-470f-879f-4088a215baa1"
      },
      "execution_count": null,
      "outputs": [
        {
          "output_type": "display_data",
          "data": {
            "text/html": [
              "<html>\n",
              "<head><meta charset=\"utf-8\" /></head>\n",
              "<body>\n",
              "    <div>            <script src=\"https://cdnjs.cloudflare.com/ajax/libs/mathjax/2.7.5/MathJax.js?config=TeX-AMS-MML_SVG\"></script><script type=\"text/javascript\">if (window.MathJax && window.MathJax.Hub && window.MathJax.Hub.Config) {window.MathJax.Hub.Config({SVG: {font: \"STIX-Web\"}});}</script>                <script type=\"text/javascript\">window.PlotlyConfig = {MathJaxConfig: 'local'};</script>\n",
              "        <script charset=\"utf-8\" src=\"https://cdn.plot.ly/plotly-2.35.2.min.js\"></script>                <div id=\"aff873cc-3908-4647-96f8-3cf37335f072\" class=\"plotly-graph-div\" style=\"height:525px; width:100%;\"></div>            <script type=\"text/javascript\">                                    window.PLOTLYENV=window.PLOTLYENV || {};                                    if (document.getElementById(\"aff873cc-3908-4647-96f8-3cf37335f072\")) {                    Plotly.newPlot(                        \"aff873cc-3908-4647-96f8-3cf37335f072\",                        [{\"hovertemplate\":\"Gender=Female\\u003cbr\\u003eAvg_Daily_Usage_Hours=%{x}\\u003cbr\\u003eSleep_Hours_Per_Night=%{y}\\u003cextra\\u003e\\u003c\\u002fextra\\u003e\",\"legendgroup\":\"Female\",\"marker\":{\"color\":\"#636efa\",\"symbol\":\"circle\"},\"mode\":\"markers\",\"name\":\"Female\",\"orientation\":\"v\",\"showlegend\":true,\"x\":[5.2,6.0,7.2,5.8,5.5,4.2,4.7,5.7,4.4,4.8,5.6,4.5,4.6,5.5,4.7,4.9,5.4,5.6,4.8,4.5,5.8,4.6,4.8,4.5,4.7,4.9,5.4,4.8,4.9,5.8,4.8,5.7,5.4,4.4,5.0,5.4,4.0,4.6,5.0,3.6,4.2,4.6,5.3,5.5,5.1,4.9,5.6,5.0,4.8,5.7,4.9,4.7,5.8,4.8,4.6,5.9,4.7,4.5,6.0,4.6,4.4,6.1,4.5,4.3,6.2,4.4,4.2,6.3,4.3,4.1,6.4,4.2,6.5,4.5,3.8,5.2,7.0,4.7,3.5,5.0,6.8,4.6,3.7,5.1,6.9,4.8,3.6,4.9,6.7,4.4,3.4,5.0,6.6,4.3,3.3,4.8,6.4,4.5,3.2,4.7,6.6,4.4,3.1,4.6,6.7,4.3,3.0,4.5,6.8,4.2,2.9,4.4,6.9,4.1,2.8,4.3,7.0,4.0,2.7,4.2,7.1,3.9,5.2,5.0,4.0,6.8,4.5,5.1,4.8,3.8,6.9,4.4,5.0,4.7,3.7,7.0,4.3,4.9,4.6,3.6,7.1,4.2,4.8,4.5,3.5,7.2,4.1,4.7,4.4,3.4,7.3,4.0,4.6,4.3,3.3,7.4,3.9,4.5,4.2,3.2,7.5,3.8,4.4,4.1,3.1,7.6,3.7,4.3,4.0,3.0,7.7,3.6,4.2,3.9,2.9,7.8,3.5,4.1,3.8,2.8,7.9,3.4,4.0,3.7,2.7,8.0,3.3,3.9,3.6,2.6,8.1,3.2,3.8,3.5,2.5,8.2,3.1,3.7,3.4,2.4,8.3,3.0,3.6,3.3,2.3,8.4,2.9,3.5,3.2,2.2,8.5,2.8,6.2,3.8,5.1,6.5,6.8,6.1,3.7,5.2,6.6,6.9,6.0,3.6,5.3,6.7,7.0,5.9,3.5,5.4,6.8,7.1,5.8,3.4,5.5,6.9,7.2,5.7,3.3,5.6,7.0,7.3,5.6,3.2,5.7,7.1,7.4,6.1,5.5,4.2,5.9,4.7,6.3,6.7,4.5,4.1,4.4,7.0,6.9,6.2,4.8,6.2,6.8,4.3,4.4,4.6,7.1,6.7,6.4,5.6,4.8,5.7,6.1,6.4,5.9,4.6,5.3,4.7,6.1,6.7,4.2,4.4,4.6,7.0,6.6,6.3,5.7,4.7,5.6,6.2],\"xaxis\":\"x\",\"y\":[6.5,5.0,4.5,6.0,5.8,6.0,5.9,5.4,5.9,5.7,5.5,5.8,5.7,5.6,5.8,5.6,5.7,5.6,5.8,5.9,5.3,5.8,5.7,5.8,5.8,5.7,5.5,5.7,5.8,5.9,7.2,6.1,6.2,7.6,6.6,5.4,8.0,7.0,5.0,8.4,7.4,4.6,6.1,5.9,7.0,6.4,5.8,7.3,6.6,5.6,7.5,6.8,5.4,7.7,7.0,5.2,7.9,7.2,5.0,8.1,7.4,4.8,8.3,7.6,4.6,8.5,7.8,4.4,8.7,8.0,4.2,8.9,6.0,7.5,7.9,6.5,5.8,7.4,8.0,6.8,5.9,7.3,7.8,6.6,5.7,7.2,8.1,6.9,5.8,7.4,8.2,6.7,5.6,7.5,8.3,7.0,5.7,7.3,8.4,7.1,5.5,7.4,8.5,7.2,5.4,7.5,8.6,7.3,5.3,7.6,8.7,7.4,5.2,7.7,8.8,7.5,5.1,7.8,8.9,7.6,5.0,7.9,6.8,7.0,7.9,5.5,7.5,6.7,7.1,8.0,5.4,7.6,6.9,7.2,8.1,5.3,7.7,7.0,7.3,8.2,5.2,7.8,7.1,7.4,8.3,5.1,7.9,7.2,7.5,8.4,5.0,8.0,7.3,7.6,8.5,4.9,8.1,7.4,7.7,8.6,4.8,8.2,7.5,7.8,8.7,4.7,8.3,7.6,7.9,8.8,4.6,8.4,7.7,8.0,8.9,4.5,8.5,7.8,8.1,9.0,4.4,8.6,7.9,8.2,9.1,4.3,8.7,8.0,8.3,9.2,4.2,8.8,8.1,8.4,9.3,4.1,8.9,8.2,8.5,9.4,4.0,9.0,8.3,8.6,9.5,3.9,9.1,8.4,8.7,9.6,3.8,9.2,6.3,8.2,7.0,6.5,6.0,6.4,8.3,6.9,6.4,5.9,6.5,8.4,6.8,6.3,5.8,6.6,8.5,6.7,6.2,5.7,6.7,8.6,6.6,6.1,5.6,6.8,8.7,6.5,6.0,5.5,6.9,8.8,6.4,5.9,5.4,7.2,6.8,7.5,6.7,7.4,6.4,6.0,7.6,7.7,7.4,5.8,6.1,6.3,7.1,6.3,5.9,7.5,7.4,7.3,5.8,6.0,6.2,6.7,7.1,6.7,6.4,6.2,6.5,7.2,6.8,7.2,6.4,6.0,7.5,7.4,7.3,5.8,6.1,6.2,6.6,7.2,6.7,6.3],\"yaxis\":\"y\",\"type\":\"scatter\"},{\"hovertemplate\":\"\\u003cb\\u003eOLS trendline\\u003c\\u002fb\\u003e\\u003cbr\\u003eSleep_Hours_Per_Night = -0.838442 * Avg_Daily_Usage_Hours + 11.0995\\u003cbr\\u003eR\\u003csup\\u003e2\\u003c\\u002fsup\\u003e=0.794527\\u003cbr\\u003e\\u003cbr\\u003eGender=Female\\u003cbr\\u003eAvg_Daily_Usage_Hours=%{x}\\u003cbr\\u003eSleep_Hours_Per_Night=%{y} \\u003cb\\u003e(trend)\\u003c\\u002fb\\u003e\\u003cextra\\u003e\\u003c\\u002fextra\\u003e\",\"legendgroup\":\"Female\",\"marker\":{\"color\":\"#636efa\",\"symbol\":\"circle\"},\"mode\":\"lines\",\"name\":\"Female\",\"showlegend\":false,\"x\":[2.2,2.3,2.4,2.5,2.6,2.7,2.7,2.8,2.8,2.8,2.9,2.9,2.9,3.0,3.0,3.0,3.1,3.1,3.1,3.2,3.2,3.2,3.2,3.2,3.3,3.3,3.3,3.3,3.3,3.4,3.4,3.4,3.4,3.4,3.5,3.5,3.5,3.5,3.5,3.5,3.6,3.6,3.6,3.6,3.6,3.6,3.6,3.7,3.7,3.7,3.7,3.7,3.7,3.8,3.8,3.8,3.8,3.8,3.8,3.9,3.9,3.9,3.9,4.0,4.0,4.0,4.0,4.0,4.0,4.1,4.1,4.1,4.1,4.1,4.1,4.2,4.2,4.2,4.2,4.2,4.2,4.2,4.2,4.2,4.2,4.2,4.3,4.3,4.3,4.3,4.3,4.3,4.3,4.3,4.3,4.4,4.4,4.4,4.4,4.4,4.4,4.4,4.4,4.4,4.4,4.4,4.4,4.4,4.5,4.5,4.5,4.5,4.5,4.5,4.5,4.5,4.5,4.5,4.5,4.5,4.6,4.6,4.6,4.6,4.6,4.6,4.6,4.6,4.6,4.6,4.6,4.6,4.6,4.7,4.7,4.7,4.7,4.7,4.7,4.7,4.7,4.7,4.7,4.7,4.7,4.8,4.8,4.8,4.8,4.8,4.8,4.8,4.8,4.8,4.8,4.8,4.8,4.8,4.9,4.9,4.9,4.9,4.9,4.9,4.9,5.0,5.0,5.0,5.0,5.0,5.0,5.0,5.1,5.1,5.1,5.1,5.2,5.2,5.2,5.2,5.3,5.3,5.3,5.4,5.4,5.4,5.4,5.4,5.5,5.5,5.5,5.5,5.5,5.6,5.6,5.6,5.6,5.6,5.6,5.6,5.7,5.7,5.7,5.7,5.7,5.7,5.7,5.8,5.8,5.8,5.8,5.8,5.9,5.9,5.9,5.9,6.0,6.0,6.0,6.1,6.1,6.1,6.1,6.1,6.2,6.2,6.2,6.2,6.2,6.3,6.3,6.3,6.4,6.4,6.4,6.4,6.5,6.5,6.6,6.6,6.6,6.6,6.7,6.7,6.7,6.7,6.7,6.7,6.8,6.8,6.8,6.8,6.8,6.8,6.9,6.9,6.9,6.9,6.9,6.9,7.0,7.0,7.0,7.0,7.0,7.0,7.0,7.1,7.1,7.1,7.1,7.1,7.2,7.2,7.2,7.3,7.3,7.4,7.4,7.5,7.6,7.7,7.8,7.9,8.0,8.1,8.2,8.3,8.4,8.5],\"xaxis\":\"x\",\"y\":[9.254897545141144,9.171053334913173,9.0872091246852,9.00336491445723,8.919520704229258,8.835676494001287,8.835676494001287,8.751832283773314,8.751832283773314,8.751832283773314,8.667988073545343,8.667988073545343,8.667988073545343,8.584143863317372,8.584143863317372,8.584143863317372,8.5002996530894,8.5002996530894,8.5002996530894,8.416455442861428,8.416455442861428,8.416455442861428,8.416455442861428,8.416455442861428,8.332611232633457,8.332611232633457,8.332611232633457,8.332611232633457,8.332611232633457,8.248767022405486,8.248767022405486,8.248767022405486,8.248767022405486,8.248767022405486,8.164922812177515,8.164922812177515,8.164922812177515,8.164922812177515,8.164922812177515,8.164922812177515,8.081078601949542,8.081078601949542,8.081078601949542,8.081078601949542,8.081078601949542,8.081078601949542,8.081078601949542,7.997234391721571,7.997234391721571,7.997234391721571,7.997234391721571,7.997234391721571,7.997234391721571,7.9133901814936,7.9133901814936,7.9133901814936,7.9133901814936,7.9133901814936,7.9133901814936,7.829545971265629,7.829545971265629,7.829545971265629,7.829545971265629,7.745701761037657,7.745701761037657,7.745701761037657,7.745701761037657,7.745701761037657,7.745701761037657,7.661857550809686,7.661857550809686,7.661857550809686,7.661857550809686,7.661857550809686,7.661857550809686,7.578013340581714,7.578013340581714,7.578013340581714,7.578013340581714,7.578013340581714,7.578013340581714,7.578013340581714,7.578013340581714,7.578013340581714,7.578013340581714,7.578013340581714,7.494169130353743,7.494169130353743,7.494169130353743,7.494169130353743,7.494169130353743,7.494169130353743,7.494169130353743,7.494169130353743,7.494169130353743,7.410324920125771,7.410324920125771,7.410324920125771,7.410324920125771,7.410324920125771,7.410324920125771,7.410324920125771,7.410324920125771,7.410324920125771,7.410324920125771,7.410324920125771,7.410324920125771,7.410324920125771,7.326480709897799,7.326480709897799,7.326480709897799,7.326480709897799,7.326480709897799,7.326480709897799,7.326480709897799,7.326480709897799,7.326480709897799,7.326480709897799,7.326480709897799,7.326480709897799,7.242636499669828,7.242636499669828,7.242636499669828,7.242636499669828,7.242636499669828,7.242636499669828,7.242636499669828,7.242636499669828,7.242636499669828,7.242636499669828,7.242636499669828,7.242636499669828,7.242636499669828,7.158792289441857,7.158792289441857,7.158792289441857,7.158792289441857,7.158792289441857,7.158792289441857,7.158792289441857,7.158792289441857,7.158792289441857,7.158792289441857,7.158792289441857,7.158792289441857,7.074948079213885,7.074948079213885,7.074948079213885,7.074948079213885,7.074948079213885,7.074948079213885,7.074948079213885,7.074948079213885,7.074948079213885,7.074948079213885,7.074948079213885,7.074948079213885,7.074948079213885,6.991103868985913,6.991103868985913,6.991103868985913,6.991103868985913,6.991103868985913,6.991103868985913,6.991103868985913,6.907259658757942,6.907259658757942,6.907259658757942,6.907259658757942,6.907259658757942,6.907259658757942,6.907259658757942,6.823415448529971,6.823415448529971,6.823415448529971,6.823415448529971,6.739571238301999,6.739571238301999,6.739571238301999,6.739571238301999,6.655727028074028,6.655727028074028,6.655727028074028,6.571882817846056,6.571882817846056,6.571882817846056,6.571882817846056,6.571882817846056,6.488038607618085,6.488038607618085,6.488038607618085,6.488038607618085,6.488038607618085,6.404194397390114,6.404194397390114,6.404194397390114,6.404194397390114,6.404194397390114,6.404194397390114,6.404194397390114,6.320350187162142,6.320350187162142,6.320350187162142,6.320350187162142,6.320350187162142,6.320350187162142,6.320350187162142,6.236505976934171,6.236505976934171,6.236505976934171,6.236505976934171,6.236505976934171,6.152661766706199,6.152661766706199,6.152661766706199,6.152661766706199,6.068817556478228,6.068817556478228,6.068817556478228,5.984973346250256,5.984973346250256,5.984973346250256,5.984973346250256,5.984973346250256,5.901129136022284,5.901129136022284,5.901129136022284,5.901129136022284,5.901129136022284,5.817284925794313,5.817284925794313,5.817284925794313,5.733440715566341,5.733440715566341,5.733440715566341,5.733440715566341,5.64959650533837,5.64959650533837,5.565752295110399,5.565752295110399,5.565752295110399,5.565752295110399,5.481908084882427,5.481908084882427,5.481908084882427,5.481908084882427,5.481908084882427,5.481908084882427,5.398063874654456,5.398063874654456,5.398063874654456,5.398063874654456,5.398063874654456,5.398063874654456,5.314219664426484,5.314219664426484,5.314219664426484,5.314219664426484,5.314219664426484,5.314219664426484,5.230375454198513,5.230375454198513,5.230375454198513,5.230375454198513,5.230375454198513,5.230375454198513,5.230375454198513,5.146531243970542,5.146531243970542,5.146531243970542,5.146531243970542,5.146531243970542,5.06268703374257,5.06268703374257,5.06268703374257,4.978842823514598,4.978842823514598,4.894998613286627,4.894998613286627,4.811154403058655,4.727310192830684,4.643465982602712,4.559621772374741,4.475777562146769,4.391933351918798,4.308089141690827,4.224244931462856,4.140400721234883,4.056556511006912,3.972712300778941],\"yaxis\":\"y\",\"type\":\"scatter\"},{\"hovertemplate\":\"Gender=Male\\u003cbr\\u003eAvg_Daily_Usage_Hours=%{x}\\u003cbr\\u003eSleep_Hours_Per_Night=%{y}\\u003cextra\\u003e\\u003c\\u002fextra\\u003e\",\"legendgroup\":\"Male\",\"marker\":{\"color\":\"#EF553B\",\"symbol\":\"circle\"},\"mode\":\"markers\",\"name\":\"Male\",\"orientation\":\"v\",\"showlegend\":true,\"x\":[4.8,3.7,3.5,4.9,3.8,3.6,4.7,3.9,3.7,4.8,3.8,3.6,4.6,4.2,3.9,4.9,4.7,3.8,4.4,3.7,4.6,4.7,3.8,6.1,4.9,5.2,5.9,5.3,4.5,5.7,4.3,4.9,5.3,3.9,4.5,4.9,3.5,4.1,5.8,6.4,6.7,4.3,4.5,4.7,7.1,6.6,6.5,5.7,4.6,5.6,6.3,6.5,5.8,4.5,5.5,4.7,6.2,6.9,4.4,4.3,4.5,7.2,6.8],\"xaxis\":\"x\",\"y\":[6.2,6.8,6.7,5.8,6.6,6.7,5.8,6.5,6.6,5.9,6.4,6.5,5.9,6.0,6.5,5.7,5.9,6.6,6.0,6.5,5.9,5.8,6.6,6.2,7.1,6.3,5.9,6.3,7.5,5.7,7.7,6.7,5.3,8.1,7.1,4.9,8.5,7.5,6.7,6.2,6.0,7.6,7.4,7.2,5.7,6.2,6.1,6.7,7.2,6.8,6.3,6.2,6.6,7.3,6.8,7.2,6.3,5.9,7.4,7.5,7.3,5.7,6.0],\"yaxis\":\"y\",\"type\":\"scatter\"},{\"hovertemplate\":\"\\u003cb\\u003eOLS trendline\\u003c\\u002fb\\u003e\\u003cbr\\u003eSleep_Hours_Per_Night = -0.31271 * Avg_Daily_Usage_Hours + 8.0685\\u003cbr\\u003eR\\u003csup\\u003e2\\u003c\\u002fsup\\u003e=0.213133\\u003cbr\\u003e\\u003cbr\\u003eGender=Male\\u003cbr\\u003eAvg_Daily_Usage_Hours=%{x}\\u003cbr\\u003eSleep_Hours_Per_Night=%{y} \\u003cb\\u003e(trend)\\u003c\\u002fb\\u003e\\u003cextra\\u003e\\u003c\\u002fextra\\u003e\",\"legendgroup\":\"Male\",\"marker\":{\"color\":\"#EF553B\",\"symbol\":\"circle\"},\"mode\":\"lines\",\"name\":\"Male\",\"showlegend\":false,\"x\":[3.5,3.5,3.6,3.6,3.7,3.7,3.7,3.8,3.8,3.8,3.8,3.9,3.9,3.9,4.1,4.2,4.3,4.3,4.3,4.4,4.4,4.5,4.5,4.5,4.5,4.5,4.6,4.6,4.6,4.7,4.7,4.7,4.7,4.7,4.8,4.8,4.9,4.9,4.9,4.9,4.9,5.2,5.3,5.3,5.5,5.6,5.7,5.7,5.8,5.8,5.9,6.1,6.2,6.3,6.4,6.5,6.5,6.6,6.7,6.8,6.9,7.1,7.2],\"xaxis\":\"x\",\"y\":[6.9740133640101885,6.9740133640101885,6.942742314470341,6.942742314470341,6.911471264930494,6.911471264930494,6.911471264930494,6.880200215390647,6.880200215390647,6.880200215390647,6.880200215390647,6.8489291658508,6.8489291658508,6.8489291658508,6.7863870667711055,6.755116017231257,6.72384496769141,6.72384496769141,6.72384496769141,6.692573918151563,6.692573918151563,6.661302868611716,6.661302868611716,6.661302868611716,6.661302868611716,6.661302868611716,6.630031819071869,6.630031819071869,6.630031819071869,6.598760769532022,6.598760769532022,6.598760769532022,6.598760769532022,6.598760769532022,6.5674897199921745,6.5674897199921745,6.536218670452326,6.536218670452326,6.536218670452326,6.536218670452326,6.536218670452326,6.442405521832786,6.411134472292938,6.411134472292938,6.348592373213243,6.317321323673396,6.286050274133549,6.286050274133549,6.254779224593702,6.254779224593702,6.223508175053855,6.1609660759741605,6.129695026434312,6.098423976894466,6.067152927354618,6.035881877814772,6.035881877814772,6.004610828274924,5.973339778735077,5.942068729195229,5.910797679655382,5.848255580575688,5.816984531035841],\"yaxis\":\"y\",\"type\":\"scatter\"}],                        {\"template\":{\"data\":{\"histogram2dcontour\":[{\"type\":\"histogram2dcontour\",\"colorbar\":{\"outlinewidth\":0,\"ticks\":\"\"},\"colorscale\":[[0.0,\"#0d0887\"],[0.1111111111111111,\"#46039f\"],[0.2222222222222222,\"#7201a8\"],[0.3333333333333333,\"#9c179e\"],[0.4444444444444444,\"#bd3786\"],[0.5555555555555556,\"#d8576b\"],[0.6666666666666666,\"#ed7953\"],[0.7777777777777778,\"#fb9f3a\"],[0.8888888888888888,\"#fdca26\"],[1.0,\"#f0f921\"]]}],\"choropleth\":[{\"type\":\"choropleth\",\"colorbar\":{\"outlinewidth\":0,\"ticks\":\"\"}}],\"histogram2d\":[{\"type\":\"histogram2d\",\"colorbar\":{\"outlinewidth\":0,\"ticks\":\"\"},\"colorscale\":[[0.0,\"#0d0887\"],[0.1111111111111111,\"#46039f\"],[0.2222222222222222,\"#7201a8\"],[0.3333333333333333,\"#9c179e\"],[0.4444444444444444,\"#bd3786\"],[0.5555555555555556,\"#d8576b\"],[0.6666666666666666,\"#ed7953\"],[0.7777777777777778,\"#fb9f3a\"],[0.8888888888888888,\"#fdca26\"],[1.0,\"#f0f921\"]]}],\"heatmap\":[{\"type\":\"heatmap\",\"colorbar\":{\"outlinewidth\":0,\"ticks\":\"\"},\"colorscale\":[[0.0,\"#0d0887\"],[0.1111111111111111,\"#46039f\"],[0.2222222222222222,\"#7201a8\"],[0.3333333333333333,\"#9c179e\"],[0.4444444444444444,\"#bd3786\"],[0.5555555555555556,\"#d8576b\"],[0.6666666666666666,\"#ed7953\"],[0.7777777777777778,\"#fb9f3a\"],[0.8888888888888888,\"#fdca26\"],[1.0,\"#f0f921\"]]}],\"heatmapgl\":[{\"type\":\"heatmapgl\",\"colorbar\":{\"outlinewidth\":0,\"ticks\":\"\"},\"colorscale\":[[0.0,\"#0d0887\"],[0.1111111111111111,\"#46039f\"],[0.2222222222222222,\"#7201a8\"],[0.3333333333333333,\"#9c179e\"],[0.4444444444444444,\"#bd3786\"],[0.5555555555555556,\"#d8576b\"],[0.6666666666666666,\"#ed7953\"],[0.7777777777777778,\"#fb9f3a\"],[0.8888888888888888,\"#fdca26\"],[1.0,\"#f0f921\"]]}],\"contourcarpet\":[{\"type\":\"contourcarpet\",\"colorbar\":{\"outlinewidth\":0,\"ticks\":\"\"}}],\"contour\":[{\"type\":\"contour\",\"colorbar\":{\"outlinewidth\":0,\"ticks\":\"\"},\"colorscale\":[[0.0,\"#0d0887\"],[0.1111111111111111,\"#46039f\"],[0.2222222222222222,\"#7201a8\"],[0.3333333333333333,\"#9c179e\"],[0.4444444444444444,\"#bd3786\"],[0.5555555555555556,\"#d8576b\"],[0.6666666666666666,\"#ed7953\"],[0.7777777777777778,\"#fb9f3a\"],[0.8888888888888888,\"#fdca26\"],[1.0,\"#f0f921\"]]}],\"surface\":[{\"type\":\"surface\",\"colorbar\":{\"outlinewidth\":0,\"ticks\":\"\"},\"colorscale\":[[0.0,\"#0d0887\"],[0.1111111111111111,\"#46039f\"],[0.2222222222222222,\"#7201a8\"],[0.3333333333333333,\"#9c179e\"],[0.4444444444444444,\"#bd3786\"],[0.5555555555555556,\"#d8576b\"],[0.6666666666666666,\"#ed7953\"],[0.7777777777777778,\"#fb9f3a\"],[0.8888888888888888,\"#fdca26\"],[1.0,\"#f0f921\"]]}],\"mesh3d\":[{\"type\":\"mesh3d\",\"colorbar\":{\"outlinewidth\":0,\"ticks\":\"\"}}],\"scatter\":[{\"fillpattern\":{\"fillmode\":\"overlay\",\"size\":10,\"solidity\":0.2},\"type\":\"scatter\"}],\"parcoords\":[{\"type\":\"parcoords\",\"line\":{\"colorbar\":{\"outlinewidth\":0,\"ticks\":\"\"}}}],\"scatterpolargl\":[{\"type\":\"scatterpolargl\",\"marker\":{\"colorbar\":{\"outlinewidth\":0,\"ticks\":\"\"}}}],\"bar\":[{\"error_x\":{\"color\":\"#2a3f5f\"},\"error_y\":{\"color\":\"#2a3f5f\"},\"marker\":{\"line\":{\"color\":\"#E5ECF6\",\"width\":0.5},\"pattern\":{\"fillmode\":\"overlay\",\"size\":10,\"solidity\":0.2}},\"type\":\"bar\"}],\"scattergeo\":[{\"type\":\"scattergeo\",\"marker\":{\"colorbar\":{\"outlinewidth\":0,\"ticks\":\"\"}}}],\"scatterpolar\":[{\"type\":\"scatterpolar\",\"marker\":{\"colorbar\":{\"outlinewidth\":0,\"ticks\":\"\"}}}],\"histogram\":[{\"marker\":{\"pattern\":{\"fillmode\":\"overlay\",\"size\":10,\"solidity\":0.2}},\"type\":\"histogram\"}],\"scattergl\":[{\"type\":\"scattergl\",\"marker\":{\"colorbar\":{\"outlinewidth\":0,\"ticks\":\"\"}}}],\"scatter3d\":[{\"type\":\"scatter3d\",\"line\":{\"colorbar\":{\"outlinewidth\":0,\"ticks\":\"\"}},\"marker\":{\"colorbar\":{\"outlinewidth\":0,\"ticks\":\"\"}}}],\"scattermapbox\":[{\"type\":\"scattermapbox\",\"marker\":{\"colorbar\":{\"outlinewidth\":0,\"ticks\":\"\"}}}],\"scatterternary\":[{\"type\":\"scatterternary\",\"marker\":{\"colorbar\":{\"outlinewidth\":0,\"ticks\":\"\"}}}],\"scattercarpet\":[{\"type\":\"scattercarpet\",\"marker\":{\"colorbar\":{\"outlinewidth\":0,\"ticks\":\"\"}}}],\"carpet\":[{\"aaxis\":{\"endlinecolor\":\"#2a3f5f\",\"gridcolor\":\"white\",\"linecolor\":\"white\",\"minorgridcolor\":\"white\",\"startlinecolor\":\"#2a3f5f\"},\"baxis\":{\"endlinecolor\":\"#2a3f5f\",\"gridcolor\":\"white\",\"linecolor\":\"white\",\"minorgridcolor\":\"white\",\"startlinecolor\":\"#2a3f5f\"},\"type\":\"carpet\"}],\"table\":[{\"cells\":{\"fill\":{\"color\":\"#EBF0F8\"},\"line\":{\"color\":\"white\"}},\"header\":{\"fill\":{\"color\":\"#C8D4E3\"},\"line\":{\"color\":\"white\"}},\"type\":\"table\"}],\"barpolar\":[{\"marker\":{\"line\":{\"color\":\"#E5ECF6\",\"width\":0.5},\"pattern\":{\"fillmode\":\"overlay\",\"size\":10,\"solidity\":0.2}},\"type\":\"barpolar\"}],\"pie\":[{\"automargin\":true,\"type\":\"pie\"}]},\"layout\":{\"autotypenumbers\":\"strict\",\"colorway\":[\"#636efa\",\"#EF553B\",\"#00cc96\",\"#ab63fa\",\"#FFA15A\",\"#19d3f3\",\"#FF6692\",\"#B6E880\",\"#FF97FF\",\"#FECB52\"],\"font\":{\"color\":\"#2a3f5f\"},\"hovermode\":\"closest\",\"hoverlabel\":{\"align\":\"left\"},\"paper_bgcolor\":\"white\",\"plot_bgcolor\":\"#E5ECF6\",\"polar\":{\"bgcolor\":\"#E5ECF6\",\"angularaxis\":{\"gridcolor\":\"white\",\"linecolor\":\"white\",\"ticks\":\"\"},\"radialaxis\":{\"gridcolor\":\"white\",\"linecolor\":\"white\",\"ticks\":\"\"}},\"ternary\":{\"bgcolor\":\"#E5ECF6\",\"aaxis\":{\"gridcolor\":\"white\",\"linecolor\":\"white\",\"ticks\":\"\"},\"baxis\":{\"gridcolor\":\"white\",\"linecolor\":\"white\",\"ticks\":\"\"},\"caxis\":{\"gridcolor\":\"white\",\"linecolor\":\"white\",\"ticks\":\"\"}},\"coloraxis\":{\"colorbar\":{\"outlinewidth\":0,\"ticks\":\"\"}},\"colorscale\":{\"sequential\":[[0.0,\"#0d0887\"],[0.1111111111111111,\"#46039f\"],[0.2222222222222222,\"#7201a8\"],[0.3333333333333333,\"#9c179e\"],[0.4444444444444444,\"#bd3786\"],[0.5555555555555556,\"#d8576b\"],[0.6666666666666666,\"#ed7953\"],[0.7777777777777778,\"#fb9f3a\"],[0.8888888888888888,\"#fdca26\"],[1.0,\"#f0f921\"]],\"sequentialminus\":[[0.0,\"#0d0887\"],[0.1111111111111111,\"#46039f\"],[0.2222222222222222,\"#7201a8\"],[0.3333333333333333,\"#9c179e\"],[0.4444444444444444,\"#bd3786\"],[0.5555555555555556,\"#d8576b\"],[0.6666666666666666,\"#ed7953\"],[0.7777777777777778,\"#fb9f3a\"],[0.8888888888888888,\"#fdca26\"],[1.0,\"#f0f921\"]],\"diverging\":[[0,\"#8e0152\"],[0.1,\"#c51b7d\"],[0.2,\"#de77ae\"],[0.3,\"#f1b6da\"],[0.4,\"#fde0ef\"],[0.5,\"#f7f7f7\"],[0.6,\"#e6f5d0\"],[0.7,\"#b8e186\"],[0.8,\"#7fbc41\"],[0.9,\"#4d9221\"],[1,\"#276419\"]]},\"xaxis\":{\"gridcolor\":\"white\",\"linecolor\":\"white\",\"ticks\":\"\",\"title\":{\"standoff\":15},\"zerolinecolor\":\"white\",\"automargin\":true,\"zerolinewidth\":2},\"yaxis\":{\"gridcolor\":\"white\",\"linecolor\":\"white\",\"ticks\":\"\",\"title\":{\"standoff\":15},\"zerolinecolor\":\"white\",\"automargin\":true,\"zerolinewidth\":2},\"scene\":{\"xaxis\":{\"backgroundcolor\":\"#E5ECF6\",\"gridcolor\":\"white\",\"linecolor\":\"white\",\"showbackground\":true,\"ticks\":\"\",\"zerolinecolor\":\"white\",\"gridwidth\":2},\"yaxis\":{\"backgroundcolor\":\"#E5ECF6\",\"gridcolor\":\"white\",\"linecolor\":\"white\",\"showbackground\":true,\"ticks\":\"\",\"zerolinecolor\":\"white\",\"gridwidth\":2},\"zaxis\":{\"backgroundcolor\":\"#E5ECF6\",\"gridcolor\":\"white\",\"linecolor\":\"white\",\"showbackground\":true,\"ticks\":\"\",\"zerolinecolor\":\"white\",\"gridwidth\":2}},\"shapedefaults\":{\"line\":{\"color\":\"#2a3f5f\"}},\"annotationdefaults\":{\"arrowcolor\":\"#2a3f5f\",\"arrowhead\":0,\"arrowwidth\":1},\"geo\":{\"bgcolor\":\"white\",\"landcolor\":\"#E5ECF6\",\"subunitcolor\":\"white\",\"showland\":true,\"showlakes\":true,\"lakecolor\":\"white\"},\"title\":{\"x\":0.05},\"mapbox\":{\"style\":\"light\"}}},\"xaxis\":{\"anchor\":\"y\",\"domain\":[0.0,1.0],\"title\":{\"text\":\"Uso diario (horas)\"}},\"yaxis\":{\"anchor\":\"x\",\"domain\":[0.0,1.0],\"title\":{\"text\":\"Horas de sueño (horas)\"}},\"legend\":{\"title\":{\"text\":\"Gender\"},\"tracegroupgap\":0},\"title\":{\"text\":\"Relacion entre uso de redes sociales y horas de sueño\"}},                        {\"responsive\": true}                    ).then(function(){\n",
              "                            \n",
              "var gd = document.getElementById('aff873cc-3908-4647-96f8-3cf37335f072');\n",
              "var x = new MutationObserver(function (mutations, observer) {{\n",
              "        var display = window.getComputedStyle(gd).display;\n",
              "        if (!display || display === 'none') {{\n",
              "            console.log([gd, 'removed!']);\n",
              "            Plotly.purge(gd);\n",
              "            observer.disconnect();\n",
              "        }}\n",
              "}});\n",
              "\n",
              "// Listen for the removal of the full notebook cells\n",
              "var notebookContainer = gd.closest('#notebook-container');\n",
              "if (notebookContainer) {{\n",
              "    x.observe(notebookContainer, {childList: true});\n",
              "}}\n",
              "\n",
              "// Listen for the clearing of the current output cell\n",
              "var outputEl = gd.closest('.output');\n",
              "if (outputEl) {{\n",
              "    x.observe(outputEl, {childList: true});\n",
              "}}\n",
              "\n",
              "                        })                };                            </script>        </div>\n",
              "</body>\n",
              "</html>"
            ]
          },
          "metadata": {}
        }
      ]
    },
    {
      "cell_type": "markdown",
      "source": [
        "Esta gráfica de dispersión explora si existe una relación entre el número de horas diarias que los estudiantes universitarios dedican a redes sociales y la cantidad de horas que duermen.\n",
        "\n",
        "A simple vista, puede observarse una tendencia en la que, **conforme aumenta el uso diario de redes sociales, las horas de sueño tienden a disminuir en algunos casos.** Aunque no se establece una relación causal directa, este patrón sugiere que un uso excesivo podría estar asociado con una reducción del descanso, lo cual es relevante al tratar temas de bienestar y salud entre estudiantes."
      ],
      "metadata": {
        "id": "G3XZy0Gqqp_X"
      }
    },
    {
      "cell_type": "code",
      "source": [
        "df_undergraduate['Nivel_Adiccion'] = pd.cut(\n",
        "    df_undergraduate['Addicted_Score'],\n",
        "    bins = [0,3,7,10],\n",
        "    labels = ['Bajo', 'Medio', 'Alto'],\n",
        "    ordered = True\n",
        ")\n",
        "\n",
        "fig = px.box(\n",
        "    df_undergraduate,\n",
        "    x = 'Nivel_Adiccion',\n",
        "    y = 'Sleep_Hours_Per_Night',\n",
        "    title = 'Horas de sueño por nivel de adiccion a redes sociales (1-3 Bajo, 4-7 Medio, 8-10 Alto)'\n",
        ")\n",
        "\n",
        "fig.update_layout(\n",
        "    xaxis_title ='Nivel de adiccion',\n",
        "    yaxis_title ='Horas de sueño'\n",
        ")\n",
        "\n",
        "fig.show()"
      ],
      "metadata": {
        "colab": {
          "base_uri": "https://localhost:8080/",
          "height": 681
        },
        "id": "N-fiXkTSdCzw",
        "outputId": "1619c1cb-202a-4eab-9f39-c2b26135c853"
      },
      "execution_count": null,
      "outputs": [
        {
          "output_type": "stream",
          "name": "stderr",
          "text": [
            "<ipython-input-65-9e228441e850>:1: SettingWithCopyWarning:\n",
            "\n",
            "\n",
            "A value is trying to be set on a copy of a slice from a DataFrame.\n",
            "Try using .loc[row_indexer,col_indexer] = value instead\n",
            "\n",
            "See the caveats in the documentation: https://pandas.pydata.org/pandas-docs/stable/user_guide/indexing.html#returning-a-view-versus-a-copy\n",
            "\n"
          ]
        },
        {
          "output_type": "display_data",
          "data": {
            "text/html": [
              "<html>\n",
              "<head><meta charset=\"utf-8\" /></head>\n",
              "<body>\n",
              "    <div>            <script src=\"https://cdnjs.cloudflare.com/ajax/libs/mathjax/2.7.5/MathJax.js?config=TeX-AMS-MML_SVG\"></script><script type=\"text/javascript\">if (window.MathJax && window.MathJax.Hub && window.MathJax.Hub.Config) {window.MathJax.Hub.Config({SVG: {font: \"STIX-Web\"}});}</script>                <script type=\"text/javascript\">window.PlotlyConfig = {MathJaxConfig: 'local'};</script>\n",
              "        <script charset=\"utf-8\" src=\"https://cdn.plot.ly/plotly-2.35.2.min.js\"></script>                <div id=\"6d491ff3-51af-4dd3-bb58-cf4c50f1f46f\" class=\"plotly-graph-div\" style=\"height:525px; width:100%;\"></div>            <script type=\"text/javascript\">                                    window.PLOTLYENV=window.PLOTLYENV || {};                                    if (document.getElementById(\"6d491ff3-51af-4dd3-bb58-cf4c50f1f46f\")) {                    Plotly.newPlot(                        \"6d491ff3-51af-4dd3-bb58-cf4c50f1f46f\",                        [{\"alignmentgroup\":\"True\",\"hovertemplate\":\"Nivel_Adiccion=%{x}\\u003cbr\\u003eSleep_Hours_Per_Night=%{y}\\u003cextra\\u003e\\u003c\\u002fextra\\u003e\",\"legendgroup\":\"\",\"marker\":{\"color\":\"#636efa\"},\"name\":\"\",\"notched\":false,\"offsetgroup\":\"\",\"orientation\":\"v\",\"showlegend\":false,\"x\":[\"Alto\",\"Alto\",\"Alto\",\"Alto\",\"Medio\",\"Alto\",\"Medio\",\"Medio\",\"Medio\",\"Medio\",\"Medio\",\"Alto\",\"Medio\",\"Medio\",\"Medio\",\"Medio\",\"Medio\",\"Alto\",\"Medio\",\"Medio\",\"Medio\",\"Medio\",\"Medio\",\"Alto\",\"Medio\",\"Medio\",\"Medio\",\"Medio\",\"Medio\",\"Alto\",\"Alto\",\"Medio\",\"Medio\",\"Medio\",\"Medio\",\"Medio\",\"Alto\",\"Medio\",\"Medio\",\"Medio\",\"Medio\",\"Medio\",\"Medio\",\"Medio\",\"Medio\",\"Medio\",\"Medio\",\"Alto\",\"Medio\",\"Medio\",\"Medio\",\"Medio\",\"Alto\",\"Medio\",\"Medio\",\"Medio\",\"Medio\",\"Medio\",\"Alto\",\"Medio\",\"Alto\",\"Medio\",\"Medio\",\"Medio\",\"Medio\",\"Alto\",\"Alto\",\"Medio\",\"Medio\",\"Medio\",\"Medio\",\"Alto\",\"Alto\",\"Medio\",\"Medio\",\"Medio\",\"Medio\",\"Alto\",\"Alto\",\"Medio\",\"Medio\",\"Alto\",\"Medio\",\"Medio\",\"Alto\",\"Medio\",\"Medio\",\"Alto\",\"Medio\",\"Medio\",\"Alto\",\"Medio\",\"Medio\",\"Alto\",\"Medio\",\"Medio\",\"Alto\",\"Medio\",\"Medio\",\"Alto\",\"Medio\",\"Medio\",\"Alto\",\"Medio\",\"Medio\",\"Alto\",\"Medio\",\"Medio\",\"Alto\",\"Medio\",\"Alto\",\"Medio\",\"Bajo\",\"Medio\",\"Alto\",\"Medio\",\"Bajo\",\"Medio\",\"Alto\",\"Medio\",\"Bajo\",\"Medio\",\"Alto\",\"Medio\",\"Bajo\",\"Medio\",\"Alto\",\"Medio\",\"Bajo\",\"Medio\",\"Alto\",\"Medio\",\"Bajo\",\"Medio\",\"Alto\",\"Medio\",\"Bajo\",\"Medio\",\"Alto\",\"Medio\",\"Bajo\",\"Medio\",\"Alto\",\"Medio\",\"Bajo\",\"Medio\",\"Alto\",\"Medio\",\"Bajo\",\"Medio\",\"Alto\",\"Medio\",\"Bajo\",\"Medio\",\"Alto\",\"Medio\",\"Bajo\",\"Medio\",\"Alto\",\"Medio\",\"Medio\",\"Medio\",\"Medio\",\"Alto\",\"Medio\",\"Medio\",\"Medio\",\"Medio\",\"Alto\",\"Medio\",\"Medio\",\"Medio\",\"Medio\",\"Alto\",\"Medio\",\"Medio\",\"Medio\",\"Medio\",\"Alto\",\"Medio\",\"Medio\",\"Medio\",\"Medio\",\"Alto\",\"Medio\",\"Medio\",\"Medio\",\"Medio\",\"Alto\",\"Medio\",\"Medio\",\"Medio\",\"Medio\",\"Alto\",\"Medio\",\"Medio\",\"Medio\",\"Medio\",\"Alto\",\"Medio\",\"Medio\",\"Medio\",\"Medio\",\"Alto\",\"Medio\",\"Medio\",\"Medio\",\"Medio\",\"Alto\",\"Medio\",\"Medio\",\"Medio\",\"Medio\",\"Alto\",\"Medio\",\"Medio\",\"Medio\",\"Medio\",\"Alto\",\"Medio\",\"Medio\",\"Medio\",\"Medio\",\"Alto\",\"Medio\",\"Medio\",\"Medio\",\"Medio\",\"Alto\",\"Medio\",\"Medio\",\"Medio\",\"Medio\",\"Alto\",\"Medio\",\"Medio\",\"Medio\",\"Medio\",\"Alto\",\"Medio\",\"Medio\",\"Medio\",\"Medio\",\"Alto\",\"Medio\",\"Medio\",\"Medio\",\"Medio\",\"Alto\",\"Medio\",\"Medio\",\"Medio\",\"Medio\",\"Alto\",\"Alto\",\"Medio\",\"Medio\",\"Medio\",\"Alto\",\"Alto\",\"Medio\",\"Medio\",\"Medio\",\"Alto\",\"Alto\",\"Medio\",\"Medio\",\"Medio\",\"Alto\",\"Alto\",\"Medio\",\"Medio\",\"Medio\",\"Alto\",\"Alto\",\"Medio\",\"Medio\",\"Medio\",\"Alto\",\"Alto\",\"Medio\",\"Medio\",\"Medio\",\"Alto\",\"Alto\",\"Medio\",\"Alto\",\"Medio\",\"Medio\",\"Medio\",\"Alto\",\"Alto\",\"Medio\",\"Medio\",\"Medio\",\"Alto\",\"Alto\",\"Alto\",\"Medio\",\"Alto\",\"Alto\",\"Medio\",\"Medio\",\"Medio\",\"Alto\",\"Alto\",\"Alto\",\"Medio\",\"Medio\",\"Medio\",\"Alto\",\"Alto\",\"Medio\",\"Medio\",\"Medio\",\"Medio\",\"Alto\",\"Alto\",\"Medio\",\"Medio\",\"Medio\",\"Alto\",\"Alto\",\"Medio\",\"Alto\",\"Alto\",\"Medio\",\"Medio\",\"Medio\",\"Alto\",\"Alto\",\"Alto\",\"Medio\",\"Medio\",\"Medio\",\"Alto\",\"Alto\",\"Medio\",\"Medio\",\"Medio\",\"Medio\",\"Alto\",\"Alto\",\"Medio\",\"Medio\",\"Medio\",\"Alto\",\"Alto\",\"Alto\",\"Medio\",\"Medio\",\"Medio\",\"Alto\"],\"x0\":\" \",\"xaxis\":\"x\",\"y\":[6.5,5.0,4.5,6.0,6.2,5.8,6.8,6.0,6.7,5.9,5.8,5.4,6.6,5.9,6.7,5.7,5.8,5.5,6.5,5.8,6.6,5.7,5.9,5.6,6.4,5.8,6.5,5.6,5.9,5.7,5.6,6.0,5.8,6.5,5.9,5.7,5.3,5.8,5.9,5.7,6.6,5.8,6.0,5.8,6.5,5.7,5.9,5.5,5.8,5.7,6.6,5.8,6.2,5.9,7.1,6.3,7.2,6.1,6.2,5.9,6.3,7.5,5.7,7.6,7.7,6.6,6.7,5.4,5.3,8.0,8.1,7.0,7.1,5.0,4.9,8.4,8.5,7.4,7.5,4.6,6.1,5.9,7.0,6.4,5.8,7.3,6.6,5.6,7.5,6.8,5.4,7.7,7.0,5.2,7.9,7.2,5.0,8.1,7.4,4.8,8.3,7.6,4.6,8.5,7.8,4.4,8.7,8.0,4.2,8.9,6.0,7.5,7.9,6.5,5.8,7.4,8.0,6.8,5.9,7.3,7.8,6.6,5.7,7.2,8.1,6.9,5.8,7.4,8.2,6.7,5.6,7.5,8.3,7.0,5.7,7.3,8.4,7.1,5.5,7.4,8.5,7.2,5.4,7.5,8.6,7.3,5.3,7.6,8.7,7.4,5.2,7.7,8.8,7.5,5.1,7.8,8.9,7.6,5.0,7.9,6.8,7.0,7.9,5.5,7.5,6.7,7.1,8.0,5.4,7.6,6.9,7.2,8.1,5.3,7.7,7.0,7.3,8.2,5.2,7.8,7.1,7.4,8.3,5.1,7.9,7.2,7.5,8.4,5.0,8.0,7.3,7.6,8.5,4.9,8.1,7.4,7.7,8.6,4.8,8.2,7.5,7.8,8.7,4.7,8.3,7.6,7.9,8.8,4.6,8.4,7.7,8.0,8.9,4.5,8.5,7.8,8.1,9.0,4.4,8.6,7.9,8.2,9.1,4.3,8.7,8.0,8.3,9.2,4.2,8.8,8.1,8.4,9.3,4.1,8.9,8.2,8.5,9.4,4.0,9.0,8.3,8.6,9.5,3.9,9.1,8.4,8.7,9.6,3.8,9.2,6.3,8.2,7.0,6.5,6.0,6.4,8.3,6.9,6.4,5.9,6.5,8.4,6.8,6.3,5.8,6.6,8.5,6.7,6.2,5.7,6.7,8.6,6.6,6.1,5.6,6.8,8.7,6.5,6.0,5.5,6.9,8.8,6.4,5.9,5.4,7.2,6.8,7.5,6.7,7.4,6.4,6.0,7.6,7.7,7.4,5.8,6.1,6.3,6.7,6.2,6.0,7.6,7.4,7.2,5.7,6.2,6.1,6.7,7.2,6.8,6.3,6.2,6.6,7.3,6.8,7.2,6.3,5.9,7.4,7.5,7.3,5.7,6.0,7.1,6.3,5.9,7.5,7.4,7.3,5.8,6.0,6.2,6.7,7.1,6.7,6.4,6.2,6.5,7.2,6.8,7.2,6.4,6.0,7.5,7.4,7.3,5.8,6.1,6.2,6.6,7.2,6.7,6.3],\"y0\":\" \",\"yaxis\":\"y\",\"type\":\"box\"}],                        {\"template\":{\"data\":{\"histogram2dcontour\":[{\"type\":\"histogram2dcontour\",\"colorbar\":{\"outlinewidth\":0,\"ticks\":\"\"},\"colorscale\":[[0.0,\"#0d0887\"],[0.1111111111111111,\"#46039f\"],[0.2222222222222222,\"#7201a8\"],[0.3333333333333333,\"#9c179e\"],[0.4444444444444444,\"#bd3786\"],[0.5555555555555556,\"#d8576b\"],[0.6666666666666666,\"#ed7953\"],[0.7777777777777778,\"#fb9f3a\"],[0.8888888888888888,\"#fdca26\"],[1.0,\"#f0f921\"]]}],\"choropleth\":[{\"type\":\"choropleth\",\"colorbar\":{\"outlinewidth\":0,\"ticks\":\"\"}}],\"histogram2d\":[{\"type\":\"histogram2d\",\"colorbar\":{\"outlinewidth\":0,\"ticks\":\"\"},\"colorscale\":[[0.0,\"#0d0887\"],[0.1111111111111111,\"#46039f\"],[0.2222222222222222,\"#7201a8\"],[0.3333333333333333,\"#9c179e\"],[0.4444444444444444,\"#bd3786\"],[0.5555555555555556,\"#d8576b\"],[0.6666666666666666,\"#ed7953\"],[0.7777777777777778,\"#fb9f3a\"],[0.8888888888888888,\"#fdca26\"],[1.0,\"#f0f921\"]]}],\"heatmap\":[{\"type\":\"heatmap\",\"colorbar\":{\"outlinewidth\":0,\"ticks\":\"\"},\"colorscale\":[[0.0,\"#0d0887\"],[0.1111111111111111,\"#46039f\"],[0.2222222222222222,\"#7201a8\"],[0.3333333333333333,\"#9c179e\"],[0.4444444444444444,\"#bd3786\"],[0.5555555555555556,\"#d8576b\"],[0.6666666666666666,\"#ed7953\"],[0.7777777777777778,\"#fb9f3a\"],[0.8888888888888888,\"#fdca26\"],[1.0,\"#f0f921\"]]}],\"heatmapgl\":[{\"type\":\"heatmapgl\",\"colorbar\":{\"outlinewidth\":0,\"ticks\":\"\"},\"colorscale\":[[0.0,\"#0d0887\"],[0.1111111111111111,\"#46039f\"],[0.2222222222222222,\"#7201a8\"],[0.3333333333333333,\"#9c179e\"],[0.4444444444444444,\"#bd3786\"],[0.5555555555555556,\"#d8576b\"],[0.6666666666666666,\"#ed7953\"],[0.7777777777777778,\"#fb9f3a\"],[0.8888888888888888,\"#fdca26\"],[1.0,\"#f0f921\"]]}],\"contourcarpet\":[{\"type\":\"contourcarpet\",\"colorbar\":{\"outlinewidth\":0,\"ticks\":\"\"}}],\"contour\":[{\"type\":\"contour\",\"colorbar\":{\"outlinewidth\":0,\"ticks\":\"\"},\"colorscale\":[[0.0,\"#0d0887\"],[0.1111111111111111,\"#46039f\"],[0.2222222222222222,\"#7201a8\"],[0.3333333333333333,\"#9c179e\"],[0.4444444444444444,\"#bd3786\"],[0.5555555555555556,\"#d8576b\"],[0.6666666666666666,\"#ed7953\"],[0.7777777777777778,\"#fb9f3a\"],[0.8888888888888888,\"#fdca26\"],[1.0,\"#f0f921\"]]}],\"surface\":[{\"type\":\"surface\",\"colorbar\":{\"outlinewidth\":0,\"ticks\":\"\"},\"colorscale\":[[0.0,\"#0d0887\"],[0.1111111111111111,\"#46039f\"],[0.2222222222222222,\"#7201a8\"],[0.3333333333333333,\"#9c179e\"],[0.4444444444444444,\"#bd3786\"],[0.5555555555555556,\"#d8576b\"],[0.6666666666666666,\"#ed7953\"],[0.7777777777777778,\"#fb9f3a\"],[0.8888888888888888,\"#fdca26\"],[1.0,\"#f0f921\"]]}],\"mesh3d\":[{\"type\":\"mesh3d\",\"colorbar\":{\"outlinewidth\":0,\"ticks\":\"\"}}],\"scatter\":[{\"fillpattern\":{\"fillmode\":\"overlay\",\"size\":10,\"solidity\":0.2},\"type\":\"scatter\"}],\"parcoords\":[{\"type\":\"parcoords\",\"line\":{\"colorbar\":{\"outlinewidth\":0,\"ticks\":\"\"}}}],\"scatterpolargl\":[{\"type\":\"scatterpolargl\",\"marker\":{\"colorbar\":{\"outlinewidth\":0,\"ticks\":\"\"}}}],\"bar\":[{\"error_x\":{\"color\":\"#2a3f5f\"},\"error_y\":{\"color\":\"#2a3f5f\"},\"marker\":{\"line\":{\"color\":\"#E5ECF6\",\"width\":0.5},\"pattern\":{\"fillmode\":\"overlay\",\"size\":10,\"solidity\":0.2}},\"type\":\"bar\"}],\"scattergeo\":[{\"type\":\"scattergeo\",\"marker\":{\"colorbar\":{\"outlinewidth\":0,\"ticks\":\"\"}}}],\"scatterpolar\":[{\"type\":\"scatterpolar\",\"marker\":{\"colorbar\":{\"outlinewidth\":0,\"ticks\":\"\"}}}],\"histogram\":[{\"marker\":{\"pattern\":{\"fillmode\":\"overlay\",\"size\":10,\"solidity\":0.2}},\"type\":\"histogram\"}],\"scattergl\":[{\"type\":\"scattergl\",\"marker\":{\"colorbar\":{\"outlinewidth\":0,\"ticks\":\"\"}}}],\"scatter3d\":[{\"type\":\"scatter3d\",\"line\":{\"colorbar\":{\"outlinewidth\":0,\"ticks\":\"\"}},\"marker\":{\"colorbar\":{\"outlinewidth\":0,\"ticks\":\"\"}}}],\"scattermapbox\":[{\"type\":\"scattermapbox\",\"marker\":{\"colorbar\":{\"outlinewidth\":0,\"ticks\":\"\"}}}],\"scatterternary\":[{\"type\":\"scatterternary\",\"marker\":{\"colorbar\":{\"outlinewidth\":0,\"ticks\":\"\"}}}],\"scattercarpet\":[{\"type\":\"scattercarpet\",\"marker\":{\"colorbar\":{\"outlinewidth\":0,\"ticks\":\"\"}}}],\"carpet\":[{\"aaxis\":{\"endlinecolor\":\"#2a3f5f\",\"gridcolor\":\"white\",\"linecolor\":\"white\",\"minorgridcolor\":\"white\",\"startlinecolor\":\"#2a3f5f\"},\"baxis\":{\"endlinecolor\":\"#2a3f5f\",\"gridcolor\":\"white\",\"linecolor\":\"white\",\"minorgridcolor\":\"white\",\"startlinecolor\":\"#2a3f5f\"},\"type\":\"carpet\"}],\"table\":[{\"cells\":{\"fill\":{\"color\":\"#EBF0F8\"},\"line\":{\"color\":\"white\"}},\"header\":{\"fill\":{\"color\":\"#C8D4E3\"},\"line\":{\"color\":\"white\"}},\"type\":\"table\"}],\"barpolar\":[{\"marker\":{\"line\":{\"color\":\"#E5ECF6\",\"width\":0.5},\"pattern\":{\"fillmode\":\"overlay\",\"size\":10,\"solidity\":0.2}},\"type\":\"barpolar\"}],\"pie\":[{\"automargin\":true,\"type\":\"pie\"}]},\"layout\":{\"autotypenumbers\":\"strict\",\"colorway\":[\"#636efa\",\"#EF553B\",\"#00cc96\",\"#ab63fa\",\"#FFA15A\",\"#19d3f3\",\"#FF6692\",\"#B6E880\",\"#FF97FF\",\"#FECB52\"],\"font\":{\"color\":\"#2a3f5f\"},\"hovermode\":\"closest\",\"hoverlabel\":{\"align\":\"left\"},\"paper_bgcolor\":\"white\",\"plot_bgcolor\":\"#E5ECF6\",\"polar\":{\"bgcolor\":\"#E5ECF6\",\"angularaxis\":{\"gridcolor\":\"white\",\"linecolor\":\"white\",\"ticks\":\"\"},\"radialaxis\":{\"gridcolor\":\"white\",\"linecolor\":\"white\",\"ticks\":\"\"}},\"ternary\":{\"bgcolor\":\"#E5ECF6\",\"aaxis\":{\"gridcolor\":\"white\",\"linecolor\":\"white\",\"ticks\":\"\"},\"baxis\":{\"gridcolor\":\"white\",\"linecolor\":\"white\",\"ticks\":\"\"},\"caxis\":{\"gridcolor\":\"white\",\"linecolor\":\"white\",\"ticks\":\"\"}},\"coloraxis\":{\"colorbar\":{\"outlinewidth\":0,\"ticks\":\"\"}},\"colorscale\":{\"sequential\":[[0.0,\"#0d0887\"],[0.1111111111111111,\"#46039f\"],[0.2222222222222222,\"#7201a8\"],[0.3333333333333333,\"#9c179e\"],[0.4444444444444444,\"#bd3786\"],[0.5555555555555556,\"#d8576b\"],[0.6666666666666666,\"#ed7953\"],[0.7777777777777778,\"#fb9f3a\"],[0.8888888888888888,\"#fdca26\"],[1.0,\"#f0f921\"]],\"sequentialminus\":[[0.0,\"#0d0887\"],[0.1111111111111111,\"#46039f\"],[0.2222222222222222,\"#7201a8\"],[0.3333333333333333,\"#9c179e\"],[0.4444444444444444,\"#bd3786\"],[0.5555555555555556,\"#d8576b\"],[0.6666666666666666,\"#ed7953\"],[0.7777777777777778,\"#fb9f3a\"],[0.8888888888888888,\"#fdca26\"],[1.0,\"#f0f921\"]],\"diverging\":[[0,\"#8e0152\"],[0.1,\"#c51b7d\"],[0.2,\"#de77ae\"],[0.3,\"#f1b6da\"],[0.4,\"#fde0ef\"],[0.5,\"#f7f7f7\"],[0.6,\"#e6f5d0\"],[0.7,\"#b8e186\"],[0.8,\"#7fbc41\"],[0.9,\"#4d9221\"],[1,\"#276419\"]]},\"xaxis\":{\"gridcolor\":\"white\",\"linecolor\":\"white\",\"ticks\":\"\",\"title\":{\"standoff\":15},\"zerolinecolor\":\"white\",\"automargin\":true,\"zerolinewidth\":2},\"yaxis\":{\"gridcolor\":\"white\",\"linecolor\":\"white\",\"ticks\":\"\",\"title\":{\"standoff\":15},\"zerolinecolor\":\"white\",\"automargin\":true,\"zerolinewidth\":2},\"scene\":{\"xaxis\":{\"backgroundcolor\":\"#E5ECF6\",\"gridcolor\":\"white\",\"linecolor\":\"white\",\"showbackground\":true,\"ticks\":\"\",\"zerolinecolor\":\"white\",\"gridwidth\":2},\"yaxis\":{\"backgroundcolor\":\"#E5ECF6\",\"gridcolor\":\"white\",\"linecolor\":\"white\",\"showbackground\":true,\"ticks\":\"\",\"zerolinecolor\":\"white\",\"gridwidth\":2},\"zaxis\":{\"backgroundcolor\":\"#E5ECF6\",\"gridcolor\":\"white\",\"linecolor\":\"white\",\"showbackground\":true,\"ticks\":\"\",\"zerolinecolor\":\"white\",\"gridwidth\":2}},\"shapedefaults\":{\"line\":{\"color\":\"#2a3f5f\"}},\"annotationdefaults\":{\"arrowcolor\":\"#2a3f5f\",\"arrowhead\":0,\"arrowwidth\":1},\"geo\":{\"bgcolor\":\"white\",\"landcolor\":\"#E5ECF6\",\"subunitcolor\":\"white\",\"showland\":true,\"showlakes\":true,\"lakecolor\":\"white\"},\"title\":{\"x\":0.05},\"mapbox\":{\"style\":\"light\"}}},\"xaxis\":{\"anchor\":\"y\",\"domain\":[0.0,1.0],\"title\":{\"text\":\"Nivel de adiccion\"}},\"yaxis\":{\"anchor\":\"x\",\"domain\":[0.0,1.0],\"title\":{\"text\":\"Horas de sueño\"}},\"legend\":{\"tracegroupgap\":0},\"title\":{\"text\":\"Horas de sueño por nivel de adiccion a redes sociales (1-3 Bajo, 4-7 Medio, 8-10 Alto)\"},\"boxmode\":\"group\"},                        {\"responsive\": true}                    ).then(function(){\n",
              "                            \n",
              "var gd = document.getElementById('6d491ff3-51af-4dd3-bb58-cf4c50f1f46f');\n",
              "var x = new MutationObserver(function (mutations, observer) {{\n",
              "        var display = window.getComputedStyle(gd).display;\n",
              "        if (!display || display === 'none') {{\n",
              "            console.log([gd, 'removed!']);\n",
              "            Plotly.purge(gd);\n",
              "            observer.disconnect();\n",
              "        }}\n",
              "}});\n",
              "\n",
              "// Listen for the removal of the full notebook cells\n",
              "var notebookContainer = gd.closest('#notebook-container');\n",
              "if (notebookContainer) {{\n",
              "    x.observe(notebookContainer, {childList: true});\n",
              "}}\n",
              "\n",
              "// Listen for the clearing of the current output cell\n",
              "var outputEl = gd.closest('.output');\n",
              "if (outputEl) {{\n",
              "    x.observe(outputEl, {childList: true});\n",
              "}}\n",
              "\n",
              "                        })                };                            </script>        </div>\n",
              "</body>\n",
              "</html>"
            ]
          },
          "metadata": {}
        }
      ]
    },
    {
      "cell_type": "markdown",
      "source": [
        "Mediante una gráfica de cajas se comparan las horas de sueño de los estudiantes divididos en tres niveles de adicción a redes sociales: bajo (1–3), medio (4–7) y alto (8–10), de acuerdo con una escala previamente definida.\n",
        "\n",
        "Se observa que los estudiantes con mayor nivel de adicción tienden a dormir menos en comparación con aquellos con niveles bajos o medios. **Esta tendencia refuerza la hipótesis de que una mayor dependencia o uso intensivo de redes sociales podría tener un impacto negativo en la calidad y cantidad del sueño.**Además, se aprecia una mayor variabilidad en las horas de sueño de quienes presentan adicción media o alta."
      ],
      "metadata": {
        "id": "FvbEf9LFrPeV"
      }
    },
    {
      "cell_type": "markdown",
      "source": [
        "# Conclusión\n",
        "---\n",
        "\n",
        "El análisis realizado permite identificar patrones relevantes en el uso de redes sociales entre estudiantes universitarios. La mayoría de los encuestados son mujeres, y aunque el promedio de horas de sueño se mantiene dentro de un rango saludable para muchos, se observan señales de posible impacto negativo cuando se incrementa el uso de redes sociales.\n",
        "\n",
        "Las plataformas más utilizadas muestran una clara preferencia por ciertas aplicaciones, y aunque la mayoría de los estudiantes no superan las 5 horas de uso diario, los niveles más altos de adicción sí presentan una tendencia a dormir menos. La relación entre el tiempo dedicado a redes sociales y las horas de sueño, así como la variabilidad del descanso según el nivel de adicción, refuerzan la importancia de fomentar hábitos digitales saludables\n",
        "\n"
      ],
      "metadata": {
        "id": "wy7-_mlprkqs"
      }
    },
    {
      "cell_type": "code",
      "source": [],
      "metadata": {
        "id": "A1VgFhWgr53g"
      },
      "execution_count": null,
      "outputs": []
    }
  ]
}